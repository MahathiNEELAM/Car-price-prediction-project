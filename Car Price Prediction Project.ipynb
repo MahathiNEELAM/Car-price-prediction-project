{
 "cells": [
  {
   "cell_type": "markdown",
   "id": "b45a100d",
   "metadata": {},
   "source": [
    "# Car Price Prediction Project"
   ]
  },
  {
   "cell_type": "markdown",
   "id": "63ec6dae",
   "metadata": {},
   "source": [
    "# Description:\n",
    "With the covid 19 impact in the market, we have seen lot of changes in the car market. Now some \n",
    "cars are in demand hence making them costly and some are not in demand hence cheaper. One \n",
    "of our clients works with small traders, who sell used cars. With the change in market due to covid \n",
    "19 impact, our client is facing problems with their previous car price valuation machine learning \n",
    "models. So, they are looking for new machine learning models from new data. We have to make \n",
    "car price valuation model. "
   ]
  },
  {
   "cell_type": "markdown",
   "id": "9f228779",
   "metadata": {},
   "source": [
    "# Data collection:"
   ]
  },
  {
   "cell_type": "code",
   "execution_count": 11,
   "id": "b08920dd",
   "metadata": {},
   "outputs": [],
   "source": [
    "#importing all the necessory libraries\n",
    "import selenium\n",
    "import pandas as pd\n",
    "import time\n",
    "from bs4 import BeautifulSoup\n",
    "from selenium import webdriver  \n",
    "from selenium.common.exceptions import StaleElementReferenceException, NoSuchElementException\n",
    "import re\n",
    "import requests\n",
    "\n",
    "import warnings\n",
    "warnings.filterwarnings(\"ignore\")"
   ]
  },
  {
   "cell_type": "code",
   "execution_count": 12,
   "id": "bce66b63",
   "metadata": {},
   "outputs": [],
   "source": [
    "#import required libraries\n",
    "from selenium.webdriver.support.ui import WebDriverWait\n",
    "from selenium.webdriver.support import expected_conditions as Ec\n",
    "from selenium.webdriver.common.by import By\n",
    "from selenium.common.exceptions import TimeoutException"
   ]
  },
  {
   "cell_type": "code",
   "execution_count": 13,
   "id": "66b39d93",
   "metadata": {},
   "outputs": [],
   "source": [
    "#getting the url using driver:\n",
    "Path = r'C:\\Users\\saima\\Desktop\\chromedriver.exe'\n",
    "driver=webdriver.Chrome(Path)\n",
    "url=' https://www.cars24.com/'\n",
    "driver.get(url)"
   ]
  },
  {
   "cell_type": "code",
   "execution_count": 17,
   "id": "efabc597",
   "metadata": {},
   "outputs": [],
   "source": [
    "view_cars=driver.find_element_by_xpath('/html/body/div[1]/div[1]/header/div/div[2]/div[2]/button')\n",
    "view_cars.click()"
   ]
  },
  {
   "cell_type": "code",
   "execution_count": 18,
   "id": "63746d77",
   "metadata": {},
   "outputs": [],
   "source": [
    "lenOfPage = driver.execute_script(\"window.scrollTo(0, document.body.scrollHeight);var lenOfPage=document.body.scrollHeight;return lenOfPage;\")\n",
    "match=False\n",
    "while(match==False):\n",
    "    lastCount = lenOfPage\n",
    "    time.sleep(3)\n",
    "    lenOfPage = driver.execute_script(\"window.scrollTo(0, document.body.scrollHeight);var lenOfPage=document.body.scrollHeight;return lenOfPage;\")\n",
    "    if lastCount==lenOfPage:\n",
    "        match=True"
   ]
  },
  {
   "cell_type": "code",
   "execution_count": 20,
   "id": "53ba43a5",
   "metadata": {},
   "outputs": [],
   "source": [
    "y=[]\n",
    "b=[]\n",
    "m=[]\n",
    "v1=[]\n",
    "Emi1=[]\n",
    "k=[]\n",
    "o=[]\n",
    "f=[]\n",
    "l1=[]\n",
    "p1=[]\n",
    "try:\n",
    "    ybm=driver.find_elements_by_xpath('//h2[@class=\"_3FpCg\"]')\n",
    "    for i in ybm:\n",
    "        y.append(i.text.split(' ').pop(0))\n",
    "        b.append(i.text.split(' ').pop(1))\n",
    "        m.append(i.text.split(' ').pop(2))\n",
    "except NoSuchElementException:\n",
    "        loop=[y,b,m]\n",
    "        for i in loop:\n",
    "            i.append('_')\n",
    "try:\n",
    "    v=driver.find_elements_by_xpath('//p[@class=\"cvakB\"]')\n",
    "    for i in v:\n",
    "        v1.append(i.text)\n",
    "except NoSuchElementException:\n",
    "        v1.append('-')  \n",
    "try:\n",
    "    Emi=driver.find_elements_by_xpath('//div[@class=\"_2HFRN\"]')\n",
    "    for i in Emi:\n",
    "        Emi1.append(i.text)\n",
    "except NoSuchElementException:\n",
    "        Emi1.append('-')  \n",
    "try:\n",
    "    kof=driver.find_elements_by_xpath('//ul[@class=\"bVR0c\"]/li[1]')\n",
    "    for i in kof:\n",
    "        k.append(i.text)\n",
    "except NoSuchElementException:\n",
    "        k.append('-')\n",
    "try:\n",
    "    kof1=driver.find_elements_by_xpath('//ul[@class=\"bVR0c\"]/li[2]')\n",
    "    for i in kof1:\n",
    "        o.append(i.text)\n",
    "except NoSuchElementException:\n",
    "        o.append('-')\n",
    "try:\n",
    "    kof2=driver.find_elements_by_xpath('//ul[@class=\"bVR0c\"]/li[3]')\n",
    "    for i in kof2:\n",
    "        f.append(i.text)\n",
    "except NoSuchElementException:\n",
    "        f.append('-')\n",
    "\n",
    "try:\n",
    "    l=driver.find_element_by_xpath('//ul[@class=\"_3oLON\"]/li[3]')\n",
    "    l1.append(l.text)\n",
    "except NoSuchElementException:\n",
    "        l1.append('-')  \n",
    "try:\n",
    "    p=driver.find_elements_by_xpath('//div[@class=\"_7udZZ\"]')\n",
    "    for i in p:\n",
    "        p1.append(i.text)\n",
    "except NoSuchElementException:\n",
    "        p1.append('-')  "
   ]
  },
  {
   "cell_type": "code",
   "execution_count": 21,
   "id": "8f7caedb",
   "metadata": {},
   "outputs": [
    {
     "name": "stdout",
     "output_type": "stream",
     "text": [
      "686 686 686 686 686 686 686 686 1 686\n"
     ]
    }
   ],
   "source": [
    "print(len(y),len(b),len(m),len(v1),len(Emi1),len(o),len(k),len(f),len(l1),len(p1))"
   ]
  },
  {
   "cell_type": "code",
   "execution_count": 22,
   "id": "7ac3de94",
   "metadata": {},
   "outputs": [],
   "source": [
    "down=driver.find_element_by_xpath('//p[@class=\"_1V4-O\"]')\n",
    "down.click()\n",
    "hyd_city=driver.find_element_by_xpath('/html/body/div[1]/div[6]/div/div/div/div/div[2]/ul/li[7]')\n",
    "hyd_city.click()\n",
    "lenOfPage = driver.execute_script(\"window.scrollTo(0, document.body.scrollHeight);var lenOfPage=document.body.scrollHeight;return lenOfPage;\")\n",
    "match=False\n",
    "while(match==False):\n",
    "    lastCount = lenOfPage\n",
    "    time.sleep(3)\n",
    "    lenOfPage = driver.execute_script(\"window.scrollTo(0, document.body.scrollHeight);var lenOfPage=document.body.scrollHeight;return lenOfPage;\")\n",
    "    if lastCount==lenOfPage:\n",
    "        match=True"
   ]
  },
  {
   "cell_type": "code",
   "execution_count": 23,
   "id": "987935fb",
   "metadata": {},
   "outputs": [
    {
     "name": "stdout",
     "output_type": "stream",
     "text": [
      "917 917 917 917 917 917 917 917 2 231\n"
     ]
    }
   ],
   "source": [
    "try:\n",
    "    ybm=driver.find_elements_by_xpath('//h2[@class=\"_3FpCg\"]')\n",
    "    for i in ybm:\n",
    "        y.append(i.text.split(' ').pop(0))\n",
    "        b.append(i.text.split(' ').pop(1))\n",
    "        m.append(i.text.split(' ').pop(2))\n",
    "except NoSuchElementException:\n",
    "        loop=[y,b,m]\n",
    "        for i in loop:\n",
    "            i.append('_')\n",
    "try:\n",
    "    v=driver.find_elements_by_xpath('//p[@class=\"cvakB\"]')\n",
    "    for i in v:\n",
    "        v1.append(i.text)\n",
    "except NoSuchElementException:\n",
    "        v1.append('-')  \n",
    "try:\n",
    "    Emi=driver.find_elements_by_xpath('//div[@class=\"_2HFRN\"]')\n",
    "    for i in Emi:\n",
    "        Emi1.append(i.text)\n",
    "except NoSuchElementException:\n",
    "        Emi1.append('-')  \n",
    "try:\n",
    "    kof=driver.find_elements_by_xpath('//ul[@class=\"bVR0c\"]/li[1]')\n",
    "    for i in kof:\n",
    "        k.append(i.text)\n",
    "except NoSuchElementException:\n",
    "        k.append('-')\n",
    "try:\n",
    "    kof1=driver.find_elements_by_xpath('//ul[@class=\"bVR0c\"]/li[2]')\n",
    "    for i in kof1:\n",
    "        o.append(i.text)\n",
    "except NoSuchElementException:\n",
    "        o.append('-')\n",
    "try:\n",
    "    kof2=driver.find_elements_by_xpath('//ul[@class=\"bVR0c\"]/li[3]')\n",
    "    for i in kof2:\n",
    "        f.append(i.text)\n",
    "except NoSuchElementException:\n",
    "        f.append('-')\n",
    "\n",
    "try:\n",
    "    l=driver.find_element_by_xpath('//ul[@class=\"_3oLON\"]/li[3]')\n",
    "    l1.append(l.text)\n",
    "except NoSuchElementException:\n",
    "        l1.append('-')  \n",
    "try:\n",
    "    p=driver.find_elements_by_xpath('//div[@class=\"_7udZZ\"]')\n",
    "    for i in p:\n",
    "        p1.append(i.text)\n",
    "except NoSuchElementException:\n",
    "        p1.append('-')  \n",
    "print(len(y),len(b),len(m),len(v1),len(Emi1),len(o),len(k),len(f),len(l1),len(p1))"
   ]
  },
  {
   "cell_type": "code",
   "execution_count": 24,
   "id": "982166fa",
   "metadata": {},
   "outputs": [],
   "source": [
    "down=driver.find_element_by_xpath('//p[@class=\"_1V4-O\"]')\n",
    "down.click()\n",
    "bang_city=driver.find_element_by_xpath('/html/body/div[1]/div[6]/div/div/div/div/div[2]/ul/li[6]')\n",
    "bang_city.click()\n",
    "lenOfPage = driver.execute_script(\"window.scrollTo(0, document.body.scrollHeight);var lenOfPage=document.body.scrollHeight;return lenOfPage;\")\n",
    "match=False\n",
    "while(match==False):\n",
    "    lastCount = lenOfPage\n",
    "    time.sleep(3)\n",
    "    lenOfPage = driver.execute_script(\"window.scrollTo(0, document.body.scrollHeight);var lenOfPage=document.body.scrollHeight;return lenOfPage;\")\n",
    "    if lastCount==lenOfPage:\n",
    "        match=True"
   ]
  },
  {
   "cell_type": "code",
   "execution_count": 25,
   "id": "4b432f33",
   "metadata": {},
   "outputs": [
    {
     "name": "stdout",
     "output_type": "stream",
     "text": [
      "1378 1378 1378 1378 1378 1378 1378 1378 3 1378\n"
     ]
    }
   ],
   "source": [
    "try:\n",
    "    ybm=driver.find_elements_by_xpath('//h2[@class=\"_3FpCg\"]')\n",
    "    for i in ybm:\n",
    "        y.append(i.text.split(' ').pop(0))\n",
    "        b.append(i.text.split(' ').pop(1))\n",
    "        m.append(i.text.split(' ').pop(2))\n",
    "except NoSuchElementException:\n",
    "        loop=[y,b,m]\n",
    "        for i in loop:\n",
    "            i.append('_')\n",
    "try:\n",
    "    v=driver.find_elements_by_xpath('//p[@class=\"cvakB\"]')\n",
    "    for i in v:\n",
    "        v1.append(i.text)\n",
    "except NoSuchElementException:\n",
    "        v1.append('-')  \n",
    "try:\n",
    "    Emi=driver.find_elements_by_xpath('//div[@class=\"_2HFRN\"]')\n",
    "    for i in Emi:\n",
    "        Emi1.append(i.text)\n",
    "except NoSuchElementException:\n",
    "        Emi1.append('-')  \n",
    "try:\n",
    "    kof=driver.find_elements_by_xpath('//ul[@class=\"bVR0c\"]/li[1]')\n",
    "    for i in kof:\n",
    "        k.append(i.text)\n",
    "except NoSuchElementException:\n",
    "        k.append('-')\n",
    "try:\n",
    "    kof1=driver.find_elements_by_xpath('//ul[@class=\"bVR0c\"]/li[2]')\n",
    "    for i in kof1:\n",
    "        o.append(i.text)\n",
    "except NoSuchElementException:\n",
    "        o.append('-')\n",
    "try:\n",
    "    kof2=driver.find_elements_by_xpath('//ul[@class=\"bVR0c\"]/li[3]')\n",
    "    for i in kof2:\n",
    "        f.append(i.text)\n",
    "except NoSuchElementException:\n",
    "        f.append('-')\n",
    "\n",
    "try:\n",
    "    l=driver.find_element_by_xpath('//ul[@class=\"_3oLON\"]/li[3]')\n",
    "    l1.append(l.text)\n",
    "except NoSuchElementException:\n",
    "        l1.append('-')  \n",
    "try:\n",
    "    p=driver.find_elements_by_xpath('//div[@class=\"_7udZZ\"]')\n",
    "    for i in p:\n",
    "        p1.append(i.text)\n",
    "except NoSuchElementException:\n",
    "        p1.append('-')  \n",
    "print(len(y),len(b),len(m),len(v1),len(Emi1),len(o),len(k),len(f),len(l1),len(p1))"
   ]
  },
  {
   "cell_type": "code",
   "execution_count": 26,
   "id": "ebfef669",
   "metadata": {},
   "outputs": [],
   "source": [
    "down=driver.find_element_by_xpath('//p[@class=\"_1V4-O\"]')\n",
    "down.click()\n",
    "pune_city=driver.find_element_by_xpath('/html/body/div[1]/div[6]/div/div/div/div/div[2]/ul/li[5]')\n",
    "pune_city.click()\n",
    "lenOfPage = driver.execute_script(\"window.scrollTo(0, document.body.scrollHeight);var lenOfPage=document.body.scrollHeight;return lenOfPage;\")\n",
    "match=False\n",
    "while(match==False):\n",
    "    lastCount = lenOfPage\n",
    "    time.sleep(3)\n",
    "    lenOfPage = driver.execute_script(\"window.scrollTo(0, document.body.scrollHeight);var lenOfPage=document.body.scrollHeight;return lenOfPage;\")\n",
    "    if lastCount==lenOfPage:\n",
    "        match=True"
   ]
  },
  {
   "cell_type": "code",
   "execution_count": 27,
   "id": "38195370",
   "metadata": {},
   "outputs": [
    {
     "name": "stdout",
     "output_type": "stream",
     "text": [
      "1870 1870 1870 1870 492 1870 1870 1870 4 492\n"
     ]
    }
   ],
   "source": [
    "try:\n",
    "    ybm=driver.find_elements_by_xpath('//h2[@class=\"_3FpCg\"]')\n",
    "    for i in ybm:\n",
    "        y.append(i.text.split(' ').pop(0))\n",
    "        b.append(i.text.split(' ').pop(1))\n",
    "        m.append(i.text.split(' ').pop(2))\n",
    "except NoSuchElementException:\n",
    "        loop=[y,b,m]\n",
    "        for i in loop:\n",
    "            i.append('_')\n",
    "try:\n",
    "    v=driver.find_elements_by_xpath('//p[@class=\"cvakB\"]')\n",
    "    for i in v:\n",
    "        v1.append(i.text)\n",
    "except NoSuchElementException:\n",
    "        v1.append('-')  \n",
    "try:\n",
    "    Emi=driver.find_elements_by_xpath('//div[@class=\"_2HFRN\"]')\n",
    "    for i in Emi:\n",
    "        Emi1.append(i.text)\n",
    "except NoSuchElementException:\n",
    "        Emi1.append('-')  \n",
    "try:\n",
    "    kof=driver.find_elements_by_xpath('//ul[@class=\"bVR0c\"]/li[1]')\n",
    "    for i in kof:\n",
    "        k.append(i.text)\n",
    "except NoSuchElementException:\n",
    "        k.append('-')\n",
    "try:\n",
    "    kof1=driver.find_elements_by_xpath('//ul[@class=\"bVR0c\"]/li[2]')\n",
    "    for i in kof1:\n",
    "        o.append(i.text)\n",
    "except NoSuchElementException:\n",
    "        o.append('-')\n",
    "try:\n",
    "    kof2=driver.find_elements_by_xpath('//ul[@class=\"bVR0c\"]/li[3]')\n",
    "    for i in kof2:\n",
    "        f.append(i.text)\n",
    "except NoSuchElementException:\n",
    "        f.append('-')\n",
    "\n",
    "try:\n",
    "    l=driver.find_element_by_xpath('//ul[@class=\"_3oLON\"]/li[3]')\n",
    "    l1.append(l.text)\n",
    "except NoSuchElementException:\n",
    "        l1.append('-')  \n",
    "try:\n",
    "    p=driver.find_elements_by_xpath('//div[@class=\"_7udZZ\"]')\n",
    "    for i in p:\n",
    "        p1.append(i.text)\n",
    "except NoSuchElementException:\n",
    "        p1.append('-')  \n",
    "print(len(y),len(b),len(m),len(v1),len(Emi1),len(o),len(k),len(f),len(l1),len(p1))"
   ]
  },
  {
   "cell_type": "code",
   "execution_count": 29,
   "id": "0b7cc069",
   "metadata": {},
   "outputs": [],
   "source": [
    "down=driver.find_element_by_xpath('//p[@class=\"_1V4-O\"]')\n",
    "down.click()\n",
    "noida_city=driver.find_element_by_xpath('/html/body/div[1]/div[6]/div/div/div/div/div[2]/ul/li[2]')\n",
    "noida_city.click()\n",
    "lenOfPage = driver.execute_script(\"window.scrollTo(0, document.body.scrollHeight);var lenOfPage=document.body.scrollHeight;return lenOfPage;\")\n",
    "match=False\n",
    "while(match==False):\n",
    "    lastCount = lenOfPage\n",
    "    time.sleep(3)\n",
    "    lenOfPage = driver.execute_script(\"window.scrollTo(0, document.body.scrollHeight);var lenOfPage=document.body.scrollHeight;return lenOfPage;\")\n",
    "    if lastCount==lenOfPage:\n",
    "        match=True"
   ]
  },
  {
   "cell_type": "code",
   "execution_count": 30,
   "id": "da3ae9db",
   "metadata": {},
   "outputs": [
    {
     "name": "stdout",
     "output_type": "stream",
     "text": [
      "2577 2577 2577 2577 2577 2577 2577 2577 5 2577\n"
     ]
    }
   ],
   "source": [
    "try:\n",
    "    ybm=driver.find_elements_by_xpath('//h2[@class=\"_3FpCg\"]')\n",
    "    for i in ybm:\n",
    "        y.append(i.text.split(' ').pop(0))\n",
    "        b.append(i.text.split(' ').pop(1))\n",
    "        m.append(i.text.split(' ').pop(2))\n",
    "except NoSuchElementException:\n",
    "        loop=[y,b,m]\n",
    "        for i in loop:\n",
    "            i.append('_')\n",
    "try:\n",
    "    v=driver.find_elements_by_xpath('//p[@class=\"cvakB\"]')\n",
    "    for i in v:\n",
    "        v1.append(i.text)\n",
    "except NoSuchElementException:\n",
    "        v1.append('-')  \n",
    "try:\n",
    "    Emi=driver.find_elements_by_xpath('//div[@class=\"_2HFRN\"]')\n",
    "    for i in Emi:\n",
    "        Emi1.append(i.text)\n",
    "except NoSuchElementException:\n",
    "        Emi1.append('-')  \n",
    "try:\n",
    "    kof=driver.find_elements_by_xpath('//ul[@class=\"bVR0c\"]/li[1]')\n",
    "    for i in kof:\n",
    "        k.append(i.text)\n",
    "except NoSuchElementException:\n",
    "        k.append('-')\n",
    "try:\n",
    "    kof1=driver.find_elements_by_xpath('//ul[@class=\"bVR0c\"]/li[2]')\n",
    "    for i in kof1:\n",
    "        o.append(i.text)\n",
    "except NoSuchElementException:\n",
    "        o.append('-')\n",
    "try:\n",
    "    kof2=driver.find_elements_by_xpath('//ul[@class=\"bVR0c\"]/li[3]')\n",
    "    for i in kof2:\n",
    "        f.append(i.text)\n",
    "except NoSuchElementException:\n",
    "        f.append('-')\n",
    "\n",
    "try:\n",
    "    l=driver.find_element_by_xpath('//ul[@class=\"_3oLON\"]/li[3]')\n",
    "    l1.append(l.text)\n",
    "except NoSuchElementException:\n",
    "        l1.append('-')  \n",
    "try:\n",
    "    p=driver.find_elements_by_xpath('//div[@class=\"_7udZZ\"]')\n",
    "    for i in p:\n",
    "        p1.append(i.text)\n",
    "except NoSuchElementException:\n",
    "        p1.append('-')  \n",
    "print(len(y),len(b),len(m),len(v1),len(Emi1),len(o),len(k),len(f),len(l1),len(p1))"
   ]
  },
  {
   "cell_type": "code",
   "execution_count": 31,
   "id": "1efa97a7",
   "metadata": {},
   "outputs": [],
   "source": [
    "down=driver.find_element_by_xpath('//p[@class=\"_1V4-O\"]')\n",
    "down.click()\n",
    "gurgaon_city=driver.find_element_by_xpath('/html/body/div[1]/div[6]/div/div/div/div/div[2]/ul/li[3]')\n",
    "gurgaon_city.click()\n",
    "lenOfPage = driver.execute_script(\"window.scrollTo(0, document.body.scrollHeight);var lenOfPage=document.body.scrollHeight;return lenOfPage;\")\n",
    "match=False\n",
    "while(match==False):\n",
    "    lastCount = lenOfPage\n",
    "    time.sleep(3)\n",
    "    lenOfPage = driver.execute_script(\"window.scrollTo(0, document.body.scrollHeight);var lenOfPage=document.body.scrollHeight;return lenOfPage;\")\n",
    "    if lastCount==lenOfPage:\n",
    "        match=True"
   ]
  },
  {
   "cell_type": "code",
   "execution_count": 32,
   "id": "17b1a361",
   "metadata": {},
   "outputs": [
    {
     "name": "stdout",
     "output_type": "stream",
     "text": [
      "3264 3264 3264 3264 3264 3264 3264 3264 6 3264\n"
     ]
    }
   ],
   "source": [
    "try:\n",
    "    ybm=driver.find_elements_by_xpath('//h2[@class=\"_3FpCg\"]')\n",
    "    for i in ybm:\n",
    "        y.append(i.text.split(' ').pop(0))\n",
    "        b.append(i.text.split(' ').pop(1))\n",
    "        m.append(i.text.split(' ').pop(2))\n",
    "except NoSuchElementException:\n",
    "        loop=[y,b,m]\n",
    "        for i in loop:\n",
    "            i.append('_')\n",
    "try:\n",
    "    v=driver.find_elements_by_xpath('//p[@class=\"cvakB\"]')\n",
    "    for i in v:\n",
    "        v1.append(i.text)\n",
    "except NoSuchElementException:\n",
    "        v1.append('-')  \n",
    "try:\n",
    "    Emi=driver.find_elements_by_xpath('//div[@class=\"_2HFRN\"]')\n",
    "    for i in Emi:\n",
    "        Emi1.append(i.text)\n",
    "except NoSuchElementException:\n",
    "        Emi1.append('-')  \n",
    "try:\n",
    "    kof=driver.find_elements_by_xpath('//ul[@class=\"bVR0c\"]/li[1]')\n",
    "    for i in kof:\n",
    "        k.append(i.text)\n",
    "except NoSuchElementException:\n",
    "        k.append('-')\n",
    "try:\n",
    "    kof1=driver.find_elements_by_xpath('//ul[@class=\"bVR0c\"]/li[2]')\n",
    "    for i in kof1:\n",
    "        o.append(i.text)\n",
    "except NoSuchElementException:\n",
    "        o.append('-')\n",
    "try:\n",
    "    kof2=driver.find_elements_by_xpath('//ul[@class=\"bVR0c\"]/li[3]')\n",
    "    for i in kof2:\n",
    "        f.append(i.text)\n",
    "except NoSuchElementException:\n",
    "        f.append('-')\n",
    "\n",
    "try:\n",
    "    l=driver.find_element_by_xpath('//ul[@class=\"_3oLON\"]/li[3]')\n",
    "    l1.append(l.text)\n",
    "except NoSuchElementException:\n",
    "        l1.append('-')  \n",
    "try:\n",
    "    p=driver.find_elements_by_xpath('//div[@class=\"_7udZZ\"]')\n",
    "    for i in p:\n",
    "        p1.append(i.text)\n",
    "except NoSuchElementException:\n",
    "        p1.append('-')  \n",
    "print(len(y),len(b),len(m),len(v1),len(Emi1),len(o),len(k),len(f),len(l1),len(p1))"
   ]
  },
  {
   "cell_type": "code",
   "execution_count": 34,
   "id": "549376ee",
   "metadata": {},
   "outputs": [],
   "source": [
    "down=driver.find_element_by_xpath('//p[@class=\"_1V4-O\"]')\n",
    "down.click()\n",
    "mumbai_city=driver.find_element_by_xpath('/html/body/div[1]/div[6]/div/div/div/div/div[2]/ul/li[4]')\n",
    "mumbai_city.click()\n",
    "lenOfPage = driver.execute_script(\"window.scrollTo(0, document.body.scrollHeight);var lenOfPage=document.body.scrollHeight;return lenOfPage;\")\n",
    "match=False\n",
    "while(match==False):\n",
    "    lastCount = lenOfPage\n",
    "    time.sleep(3)\n",
    "    lenOfPage = driver.execute_script(\"window.scrollTo(0, document.body.scrollHeight);var lenOfPage=document.body.scrollHeight;return lenOfPage;\")\n",
    "    if lastCount==lenOfPage:\n",
    "        match=True"
   ]
  },
  {
   "cell_type": "code",
   "execution_count": 35,
   "id": "368e31a0",
   "metadata": {},
   "outputs": [
    {
     "name": "stdout",
     "output_type": "stream",
     "text": [
      "3897 3897 3897 3897 3897 3897 3897 3897 7 3897\n"
     ]
    }
   ],
   "source": [
    "try:\n",
    "    ybm=driver.find_elements_by_xpath('//h2[@class=\"_3FpCg\"]')\n",
    "    for i in ybm:\n",
    "        y.append(i.text.split(' ').pop(0))\n",
    "        b.append(i.text.split(' ').pop(1))\n",
    "        m.append(i.text.split(' ').pop(2))\n",
    "except NoSuchElementException:\n",
    "        loop=[y,b,m]\n",
    "        for i in loop:\n",
    "            i.append('_')\n",
    "try:\n",
    "    v=driver.find_elements_by_xpath('//p[@class=\"cvakB\"]')\n",
    "    for i in v:\n",
    "        v1.append(i.text)\n",
    "except NoSuchElementException:\n",
    "        v1.append('-')  \n",
    "try:\n",
    "    Emi=driver.find_elements_by_xpath('//div[@class=\"_2HFRN\"]')\n",
    "    for i in Emi:\n",
    "        Emi1.append(i.text)\n",
    "except NoSuchElementException:\n",
    "        Emi1.append('-')  \n",
    "try:\n",
    "    kof=driver.find_elements_by_xpath('//ul[@class=\"bVR0c\"]/li[1]')\n",
    "    for i in kof:\n",
    "        k.append(i.text)\n",
    "except NoSuchElementException:\n",
    "        k.append('-')\n",
    "try:\n",
    "    kof1=driver.find_elements_by_xpath('//ul[@class=\"bVR0c\"]/li[2]')\n",
    "    for i in kof1:\n",
    "        o.append(i.text)\n",
    "except NoSuchElementException:\n",
    "        o.append('-')\n",
    "try:\n",
    "    kof2=driver.find_elements_by_xpath('//ul[@class=\"bVR0c\"]/li[3]')\n",
    "    for i in kof2:\n",
    "        f.append(i.text)\n",
    "except NoSuchElementException:\n",
    "        f.append('-')\n",
    "\n",
    "try:\n",
    "    l=driver.find_element_by_xpath('//ul[@class=\"_3oLON\"]/li[3]')\n",
    "    l1.append(l.text)\n",
    "except NoSuchElementException:\n",
    "        l1.append('-')  \n",
    "try:\n",
    "    p=driver.find_elements_by_xpath('//div[@class=\"_7udZZ\"]')\n",
    "    for i in p:\n",
    "        p1.append(i.text)\n",
    "except NoSuchElementException:\n",
    "        p1.append('-')  \n",
    "print(len(y),len(b),len(m),len(v1),len(Emi1),len(o),len(k),len(f),len(l1),len(p1))"
   ]
  },
  {
   "cell_type": "code",
   "execution_count": 36,
   "id": "eeffded4",
   "metadata": {},
   "outputs": [],
   "source": [
    "down=driver.find_element_by_xpath('//p[@class=\"_1V4-O\"]')\n",
    "down.click()\n",
    "chennai_city=driver.find_element_by_xpath('/html/body/div[1]/div[6]/div/div/div/div/div[2]/ul/li[8]')\n",
    "chennai_city.click()\n",
    "lenOfPage = driver.execute_script(\"window.scrollTo(0, document.body.scrollHeight);var lenOfPage=document.body.scrollHeight;return lenOfPage;\")\n",
    "match=False\n",
    "while(match==False):\n",
    "    lastCount = lenOfPage\n",
    "    time.sleep(3)\n",
    "    lenOfPage = driver.execute_script(\"window.scrollTo(0, document.body.scrollHeight);var lenOfPage=document.body.scrollHeight;return lenOfPage;\")\n",
    "    if lastCount==lenOfPage:\n",
    "        match=True"
   ]
  },
  {
   "cell_type": "code",
   "execution_count": 37,
   "id": "e8820f06",
   "metadata": {},
   "outputs": [
    {
     "name": "stdout",
     "output_type": "stream",
     "text": [
      "4458 4458 4458 4458 4458 4458 4458 4458 8 4458\n"
     ]
    }
   ],
   "source": [
    "try:\n",
    "    ybm=driver.find_elements_by_xpath('//h2[@class=\"_3FpCg\"]')\n",
    "    for i in ybm:\n",
    "        y.append(i.text.split(' ').pop(0))\n",
    "        b.append(i.text.split(' ').pop(1))\n",
    "        m.append(i.text.split(' ').pop(2))\n",
    "except NoSuchElementException:\n",
    "        loop=[y,b,m]\n",
    "        for i in loop:\n",
    "            i.append('_')\n",
    "try:\n",
    "    v=driver.find_elements_by_xpath('//p[@class=\"cvakB\"]')\n",
    "    for i in v:\n",
    "        v1.append(i.text)\n",
    "except NoSuchElementException:\n",
    "        v1.append('-')  \n",
    "try:\n",
    "    Emi=driver.find_elements_by_xpath('//div[@class=\"_2HFRN\"]')\n",
    "    for i in Emi:\n",
    "        Emi1.append(i.text)\n",
    "except NoSuchElementException:\n",
    "        Emi1.append('-')  \n",
    "try:\n",
    "    kof=driver.find_elements_by_xpath('//ul[@class=\"bVR0c\"]/li[1]')\n",
    "    for i in kof:\n",
    "        k.append(i.text)\n",
    "except NoSuchElementException:\n",
    "        k.append('-')\n",
    "try:\n",
    "    kof1=driver.find_elements_by_xpath('//ul[@class=\"bVR0c\"]/li[2]')\n",
    "    for i in kof1:\n",
    "        o.append(i.text)\n",
    "except NoSuchElementException:\n",
    "        o.append('-')\n",
    "try:\n",
    "    kof2=driver.find_elements_by_xpath('//ul[@class=\"bVR0c\"]/li[3]')\n",
    "    for i in kof2:\n",
    "        f.append(i.text)\n",
    "except NoSuchElementException:\n",
    "        f.append('-')\n",
    "\n",
    "try:\n",
    "    l=driver.find_element_by_xpath('//ul[@class=\"_3oLON\"]/li[3]')\n",
    "    l1.append(l.text)\n",
    "except NoSuchElementException:\n",
    "        l1.append('-')  \n",
    "try:\n",
    "    p=driver.find_elements_by_xpath('//div[@class=\"_7udZZ\"]')\n",
    "    for i in p:\n",
    "        p1.append(i.text)\n",
    "except NoSuchElementException:\n",
    "        p1.append('-')  \n",
    "print(len(y),len(b),len(m),len(v1),len(Emi1),len(o),len(k),len(f),len(l1),len(p1))"
   ]
  },
  {
   "cell_type": "code",
   "execution_count": 44,
   "id": "d769aacc",
   "metadata": {},
   "outputs": [],
   "source": [
    "down=driver.find_element_by_xpath('//p[@class=\"_1V4-O\"]')\n",
    "down.click()\n",
    "kolkata_city=driver.find_element_by_xpath('/html/body/div[1]/div[6]/div/div/div/div/div[2]/ul/li[9]')\n",
    "kolkata_city.click()\n",
    "lenOfPage = driver.execute_script(\"window.scrollTo(0, document.body.scrollHeight);var lenOfPage=document.body.scrollHeight;return lenOfPage;\")\n",
    "match=False\n",
    "while(match==False):\n",
    "    lastCount = lenOfPage\n",
    "    time.sleep(3)\n",
    "    lenOfPage = driver.execute_script(\"window.scrollTo(0, document.body.scrollHeight);var lenOfPage=document.body.scrollHeight;return lenOfPage;\")\n",
    "    if lastCount==lenOfPage:\n",
    "        match=True"
   ]
  },
  {
   "cell_type": "code",
   "execution_count": 45,
   "id": "13a67997",
   "metadata": {},
   "outputs": [
    {
     "name": "stdout",
     "output_type": "stream",
     "text": [
      "4635 4635 4635 4635 4635 4635 4635 4635 9 4635\n"
     ]
    }
   ],
   "source": [
    "try:\n",
    "    ybm=driver.find_elements_by_xpath('//h2[@class=\"_3FpCg\"]')\n",
    "    for i in ybm:\n",
    "        y.append(i.text.split(' ').pop(0))\n",
    "        b.append(i.text.split(' ').pop(1))\n",
    "        m.append(i.text.split(' ').pop(2))\n",
    "except NoSuchElementException:\n",
    "        loop=[y,b,m]\n",
    "        for i in loop:\n",
    "            i.append('_')\n",
    "try:\n",
    "    v=driver.find_elements_by_xpath('//p[@class=\"cvakB\"]')\n",
    "    for i in v:\n",
    "        v1.append(i.text)\n",
    "except NoSuchElementException:\n",
    "        v1.append('-')  \n",
    "try:\n",
    "    Emi=driver.find_elements_by_xpath('//div[@class=\"_2HFRN\"]')\n",
    "    for i in Emi:\n",
    "        Emi1.append(i.text)\n",
    "except NoSuchElementException:\n",
    "        Emi1.append('-')  \n",
    "try:\n",
    "    kof=driver.find_elements_by_xpath('//ul[@class=\"bVR0c\"]/li[1]')\n",
    "    for i in kof:\n",
    "        k.append(i.text)\n",
    "except NoSuchElementException:\n",
    "        k.append('-')\n",
    "try:\n",
    "    kof1=driver.find_elements_by_xpath('//ul[@class=\"bVR0c\"]/li[2]')\n",
    "    for i in kof1:\n",
    "        o.append(i.text)\n",
    "except NoSuchElementException:\n",
    "        o.append('-')\n",
    "try:\n",
    "    kof2=driver.find_elements_by_xpath('//ul[@class=\"bVR0c\"]/li[3]')\n",
    "    for i in kof2:\n",
    "        f.append(i.text)\n",
    "except NoSuchElementException:\n",
    "        f.append('-')\n",
    "\n",
    "try:\n",
    "    l=driver.find_element_by_xpath('//ul[@class=\"_3oLON\"]/li[3]')\n",
    "    l1.append(l.text)\n",
    "except NoSuchElementException:\n",
    "        l1.append('-')  \n",
    "try:\n",
    "    p=driver.find_elements_by_xpath('//div[@class=\"_7udZZ\"]')\n",
    "    for i in p:\n",
    "        p1.append(i.text)\n",
    "except NoSuchElementException:\n",
    "        p1.append('-')  \n",
    "print(len(y),len(b),len(m),len(v1),len(Emi1),len(o),len(k),len(f),len(l1),len(p1))"
   ]
  },
  {
   "cell_type": "code",
   "execution_count": 50,
   "id": "8fb3065e",
   "metadata": {},
   "outputs": [
    {
     "data": {
      "text/plain": [
       "4635"
      ]
     },
     "execution_count": 50,
     "metadata": {},
     "output_type": "execute_result"
    }
   ],
   "source": [
    "from itertools import repeat\n",
    "location.extend(repeat(l1[0],686))\n",
    "location.extend(repeat(l1[1],231))\n",
    "location.extend(repeat(l1[2],461))\n",
    "location.extend(repeat(l1[3],492))\n",
    "location.extend(repeat(l1[4],707))\n",
    "location.extend(repeat(l1[5],687))\n",
    "location.extend(repeat(l1[6],633))\n",
    "location.extend(repeat(l1[7],561))\n",
    "location.extend(repeat(l1[8],177))\n",
    "len(location)"
   ]
  },
  {
   "cell_type": "markdown",
   "id": "1b5a25b5",
   "metadata": {},
   "source": [
    "# Creating Dataframe:"
   ]
  },
  {
   "cell_type": "code",
   "execution_count": 56,
   "id": "37c31099",
   "metadata": {},
   "outputs": [
    {
     "data": {
      "text/html": [
       "<div>\n",
       "<style scoped>\n",
       "    .dataframe tbody tr th:only-of-type {\n",
       "        vertical-align: middle;\n",
       "    }\n",
       "\n",
       "    .dataframe tbody tr th {\n",
       "        vertical-align: top;\n",
       "    }\n",
       "\n",
       "    .dataframe thead th {\n",
       "        text-align: right;\n",
       "    }\n",
       "</style>\n",
       "<table border=\"1\" class=\"dataframe\">\n",
       "  <thead>\n",
       "    <tr style=\"text-align: right;\">\n",
       "      <th></th>\n",
       "      <th>Brand</th>\n",
       "      <th>Model</th>\n",
       "      <th>Variant</th>\n",
       "      <th>Manufacturing_year</th>\n",
       "      <th>EMI</th>\n",
       "      <th>Driven_kilometers</th>\n",
       "      <th>Fuel</th>\n",
       "      <th>Number_of_owners</th>\n",
       "      <th>Location</th>\n",
       "      <th>Price</th>\n",
       "    </tr>\n",
       "  </thead>\n",
       "  <tbody>\n",
       "    <tr>\n",
       "      <th>0</th>\n",
       "      <td>Hyundai</td>\n",
       "      <td>Verna</td>\n",
       "      <td>1.6 SX VTVT (O) Manual</td>\n",
       "      <td>2019</td>\n",
       "      <td>₹21,837/month</td>\n",
       "      <td>80,631 km</td>\n",
       "      <td>Petrol</td>\n",
       "      <td>1st Owner</td>\n",
       "      <td>New Delhi</td>\n",
       "      <td>₹9,81,699</td>\n",
       "    </tr>\n",
       "    <tr>\n",
       "      <th>1</th>\n",
       "      <td>Mercedes</td>\n",
       "      <td>Benz</td>\n",
       "      <td>C 200 AVANTGARDE Automatic</td>\n",
       "      <td>2014</td>\n",
       "      <td>₹47,454/month</td>\n",
       "      <td>36,806 km</td>\n",
       "      <td>Petrol</td>\n",
       "      <td>1st Owner</td>\n",
       "      <td>New Delhi</td>\n",
       "      <td>₹21,33,299</td>\n",
       "    </tr>\n",
       "    <tr>\n",
       "      <th>2</th>\n",
       "      <td>Maruti</td>\n",
       "      <td>IGNIS</td>\n",
       "      <td>SIGMA 1.2 K12 Manual</td>\n",
       "      <td>2020</td>\n",
       "      <td>₹10,904/month</td>\n",
       "      <td>15,827 km</td>\n",
       "      <td>Petrol</td>\n",
       "      <td>1st Owner</td>\n",
       "      <td>New Delhi</td>\n",
       "      <td>₹4,90,199</td>\n",
       "    </tr>\n",
       "    <tr>\n",
       "      <th>3</th>\n",
       "      <td>Toyota</td>\n",
       "      <td>Fortuner</td>\n",
       "      <td>3.0 AT 4X2 Automatic</td>\n",
       "      <td>2015</td>\n",
       "      <td>₹35,097/month</td>\n",
       "      <td>90,086 km</td>\n",
       "      <td>Diesel</td>\n",
       "      <td>2nd Owner</td>\n",
       "      <td>New Delhi</td>\n",
       "      <td>₹15,77,799</td>\n",
       "    </tr>\n",
       "    <tr>\n",
       "      <th>4</th>\n",
       "      <td>Mercedes</td>\n",
       "      <td>Benz</td>\n",
       "      <td>E 250 CDI AVANTGARDE Automatic</td>\n",
       "      <td>2013</td>\n",
       "      <td>₹32,379/month</td>\n",
       "      <td>42,881 km</td>\n",
       "      <td>Diesel</td>\n",
       "      <td>2nd Owner</td>\n",
       "      <td>New Delhi</td>\n",
       "      <td>₹14,55,599</td>\n",
       "    </tr>\n",
       "    <tr>\n",
       "      <th>...</th>\n",
       "      <td>...</td>\n",
       "      <td>...</td>\n",
       "      <td>...</td>\n",
       "      <td>...</td>\n",
       "      <td>...</td>\n",
       "      <td>...</td>\n",
       "      <td>...</td>\n",
       "      <td>...</td>\n",
       "      <td>...</td>\n",
       "      <td>...</td>\n",
       "    </tr>\n",
       "    <tr>\n",
       "      <th>4630</th>\n",
       "      <td>Maruti</td>\n",
       "      <td>Alto</td>\n",
       "      <td>VXI Manual</td>\n",
       "      <td>2020</td>\n",
       "      <td>₹7,987/month</td>\n",
       "      <td>6,257 km</td>\n",
       "      <td>Petrol</td>\n",
       "      <td>1st Owner</td>\n",
       "      <td>Kolkata</td>\n",
       "      <td>₹3,59,059</td>\n",
       "    </tr>\n",
       "    <tr>\n",
       "      <th>4631</th>\n",
       "      <td>Maruti</td>\n",
       "      <td>Baleno</td>\n",
       "      <td>ALPHA 1.2 K12 Manual</td>\n",
       "      <td>2015</td>\n",
       "      <td>₹11,491/month</td>\n",
       "      <td>65,896 km</td>\n",
       "      <td>Petrol</td>\n",
       "      <td>1st Owner</td>\n",
       "      <td>Kolkata</td>\n",
       "      <td>₹5,16,599</td>\n",
       "    </tr>\n",
       "    <tr>\n",
       "      <th>4632</th>\n",
       "      <td>Hyundai</td>\n",
       "      <td>Xcent</td>\n",
       "      <td>S 1.2 Manual</td>\n",
       "      <td>2014</td>\n",
       "      <td>₹7,401/month</td>\n",
       "      <td>71,674 km</td>\n",
       "      <td>Petrol</td>\n",
       "      <td>1st Owner</td>\n",
       "      <td>Kolkata</td>\n",
       "      <td>₹3,32,699</td>\n",
       "    </tr>\n",
       "    <tr>\n",
       "      <th>4633</th>\n",
       "      <td>Maruti</td>\n",
       "      <td>S</td>\n",
       "      <td>VXI PLUS Manual</td>\n",
       "      <td>2019</td>\n",
       "      <td>₹9,127/month</td>\n",
       "      <td>21,973 km</td>\n",
       "      <td>Petrol</td>\n",
       "      <td>1st Owner</td>\n",
       "      <td>Kolkata</td>\n",
       "      <td>₹4,10,299</td>\n",
       "    </tr>\n",
       "    <tr>\n",
       "      <th>4634</th>\n",
       "      <td>Maruti</td>\n",
       "      <td>Alto</td>\n",
       "      <td>LXI Manual</td>\n",
       "      <td>2019</td>\n",
       "      <td>₹7,501/month</td>\n",
       "      <td>11,575 km</td>\n",
       "      <td>Petrol</td>\n",
       "      <td>1st Owner</td>\n",
       "      <td>Kolkata</td>\n",
       "      <td>₹3,37,199</td>\n",
       "    </tr>\n",
       "  </tbody>\n",
       "</table>\n",
       "<p>4635 rows × 10 columns</p>\n",
       "</div>"
      ],
      "text/plain": [
       "         Brand     Model                         Variant Manufacturing_year  \\\n",
       "0      Hyundai     Verna          1.6 SX VTVT (O) Manual               2019   \n",
       "1     Mercedes      Benz      C 200 AVANTGARDE Automatic               2014   \n",
       "2       Maruti     IGNIS            SIGMA 1.2 K12 Manual               2020   \n",
       "3       Toyota  Fortuner            3.0 AT 4X2 Automatic               2015   \n",
       "4     Mercedes      Benz  E 250 CDI AVANTGARDE Automatic               2013   \n",
       "...        ...       ...                             ...                ...   \n",
       "4630    Maruti      Alto                      VXI Manual               2020   \n",
       "4631    Maruti    Baleno            ALPHA 1.2 K12 Manual               2015   \n",
       "4632   Hyundai     Xcent                    S 1.2 Manual               2014   \n",
       "4633    Maruti         S                 VXI PLUS Manual               2019   \n",
       "4634    Maruti      Alto                      LXI Manual               2019   \n",
       "\n",
       "                EMI Driven_kilometers    Fuel Number_of_owners   Location  \\\n",
       "0     ₹21,837/month         80,631 km  Petrol        1st Owner  New Delhi   \n",
       "1     ₹47,454/month         36,806 km  Petrol        1st Owner  New Delhi   \n",
       "2     ₹10,904/month         15,827 km  Petrol        1st Owner  New Delhi   \n",
       "3     ₹35,097/month         90,086 km  Diesel        2nd Owner  New Delhi   \n",
       "4     ₹32,379/month         42,881 km  Diesel        2nd Owner  New Delhi   \n",
       "...             ...               ...     ...              ...        ...   \n",
       "4630   ₹7,987/month          6,257 km  Petrol        1st Owner    Kolkata   \n",
       "4631  ₹11,491/month         65,896 km  Petrol        1st Owner    Kolkata   \n",
       "4632   ₹7,401/month         71,674 km  Petrol        1st Owner    Kolkata   \n",
       "4633   ₹9,127/month         21,973 km  Petrol        1st Owner    Kolkata   \n",
       "4634   ₹7,501/month         11,575 km  Petrol        1st Owner    Kolkata   \n",
       "\n",
       "           Price  \n",
       "0      ₹9,81,699  \n",
       "1     ₹21,33,299  \n",
       "2      ₹4,90,199  \n",
       "3     ₹15,77,799  \n",
       "4     ₹14,55,599  \n",
       "...          ...  \n",
       "4630   ₹3,59,059  \n",
       "4631   ₹5,16,599  \n",
       "4632   ₹3,32,699  \n",
       "4633   ₹4,10,299  \n",
       "4634   ₹3,37,199  \n",
       "\n",
       "[4635 rows x 10 columns]"
      ]
     },
     "execution_count": 56,
     "metadata": {},
     "output_type": "execute_result"
    }
   ],
   "source": [
    "df=pd.DataFrame({\"Brand\":b,\"Model\":m,\"Variant\":v1,\"Manufacturing_year\":y,\"EMI\":Emi1,\"Driven_kilometers\":k,\"Fuel\":f,\"Number_of_owners\":o,\"Location\":location,\"Price\":p1})\n",
    "df"
   ]
  },
  {
   "cell_type": "markdown",
   "id": "d4be60c7",
   "metadata": {},
   "source": [
    "# Importing all the necessary Libraries:"
   ]
  },
  {
   "cell_type": "code",
   "execution_count": 53,
   "id": "e43f74b8",
   "metadata": {},
   "outputs": [],
   "source": [
    "import pandas as pd \n",
    "import numpy as np\n",
    "import matplotlib.pyplot as plt\n",
    "import seaborn as sns\n",
    "\n",
    "import warnings\n",
    "warnings.filterwarnings('ignore')"
   ]
  },
  {
   "cell_type": "code",
   "execution_count": 57,
   "id": "2ef43bef",
   "metadata": {},
   "outputs": [],
   "source": [
    "df.to_csv('Used_cars.csv')"
   ]
  },
  {
   "cell_type": "code",
   "execution_count": 58,
   "id": "fd5f0f01",
   "metadata": {},
   "outputs": [
    {
     "data": {
      "text/plain": [
       "(4635, 10)"
      ]
     },
     "execution_count": 58,
     "metadata": {},
     "output_type": "execute_result"
    }
   ],
   "source": [
    "df.shape  #To get the data dimension "
   ]
  },
  {
   "cell_type": "code",
   "execution_count": 59,
   "id": "e922367d",
   "metadata": {},
   "outputs": [
    {
     "name": "stdout",
     "output_type": "stream",
     "text": [
      "<class 'pandas.core.frame.DataFrame'>\n",
      "RangeIndex: 4635 entries, 0 to 4634\n",
      "Data columns (total 10 columns):\n",
      " #   Column              Non-Null Count  Dtype \n",
      "---  ------              --------------  ----- \n",
      " 0   Brand               4635 non-null   object\n",
      " 1   Model               4635 non-null   object\n",
      " 2   Variant             4635 non-null   object\n",
      " 3   Manufacturing_year  4635 non-null   object\n",
      " 4   EMI                 4635 non-null   object\n",
      " 5   Driven_kilometers   4635 non-null   object\n",
      " 6   Fuel                4635 non-null   object\n",
      " 7   Number_of_owners    4635 non-null   object\n",
      " 8   Location            4635 non-null   object\n",
      " 9   Price               4635 non-null   object\n",
      "dtypes: object(10)\n",
      "memory usage: 362.2+ KB\n"
     ]
    }
   ],
   "source": [
    "#To get all the information regarding data set:\n",
    "df.info()"
   ]
  },
  {
   "cell_type": "code",
   "execution_count": 60,
   "id": "c22fa003",
   "metadata": {},
   "outputs": [
    {
     "data": {
      "text/html": [
       "<div>\n",
       "<style scoped>\n",
       "    .dataframe tbody tr th:only-of-type {\n",
       "        vertical-align: middle;\n",
       "    }\n",
       "\n",
       "    .dataframe tbody tr th {\n",
       "        vertical-align: top;\n",
       "    }\n",
       "\n",
       "    .dataframe thead th {\n",
       "        text-align: right;\n",
       "    }\n",
       "</style>\n",
       "<table border=\"1\" class=\"dataframe\">\n",
       "  <thead>\n",
       "    <tr style=\"text-align: right;\">\n",
       "      <th></th>\n",
       "      <th>Brand</th>\n",
       "      <th>Model</th>\n",
       "      <th>Variant</th>\n",
       "      <th>Manufacturing_year</th>\n",
       "      <th>EMI</th>\n",
       "      <th>Driven_kilometers</th>\n",
       "      <th>Fuel</th>\n",
       "      <th>Number_of_owners</th>\n",
       "      <th>Location</th>\n",
       "      <th>Price</th>\n",
       "    </tr>\n",
       "  </thead>\n",
       "  <tbody>\n",
       "  </tbody>\n",
       "</table>\n",
       "</div>"
      ],
      "text/plain": [
       "Empty DataFrame\n",
       "Columns: [Brand, Model, Variant, Manufacturing_year, EMI, Driven_kilometers, Fuel, Number_of_owners, Location, Price]\n",
       "Index: []"
      ]
     },
     "execution_count": 60,
     "metadata": {},
     "output_type": "execute_result"
    }
   ],
   "source": [
    "df.loc[df['Price']==''] #checking  the empty rows of the column"
   ]
  },
  {
   "cell_type": "code",
   "execution_count": 61,
   "id": "0831ef7b",
   "metadata": {},
   "outputs": [
    {
     "data": {
      "text/plain": [
       "Brand                 0\n",
       "Model                 0\n",
       "Variant               0\n",
       "Manufacturing_year    0\n",
       "EMI                   0\n",
       "Driven_kilometers     0\n",
       "Fuel                  0\n",
       "Number_of_owners      0\n",
       "Location              0\n",
       "Price                 0\n",
       "dtype: int64"
      ]
     },
     "execution_count": 61,
     "metadata": {},
     "output_type": "execute_result"
    }
   ],
   "source": [
    "df.isnull().sum()"
   ]
  },
  {
   "cell_type": "code",
   "execution_count": 62,
   "id": "1db6bebc",
   "metadata": {},
   "outputs": [
    {
     "data": {
      "text/html": [
       "<div>\n",
       "<style scoped>\n",
       "    .dataframe tbody tr th:only-of-type {\n",
       "        vertical-align: middle;\n",
       "    }\n",
       "\n",
       "    .dataframe tbody tr th {\n",
       "        vertical-align: top;\n",
       "    }\n",
       "\n",
       "    .dataframe thead th {\n",
       "        text-align: right;\n",
       "    }\n",
       "</style>\n",
       "<table border=\"1\" class=\"dataframe\">\n",
       "  <thead>\n",
       "    <tr style=\"text-align: right;\">\n",
       "      <th></th>\n",
       "      <th>Brand</th>\n",
       "      <th>Model</th>\n",
       "      <th>Variant</th>\n",
       "      <th>Manufacturing_year</th>\n",
       "      <th>EMI</th>\n",
       "      <th>Driven_kilometers</th>\n",
       "      <th>Fuel</th>\n",
       "      <th>Number_of_owners</th>\n",
       "      <th>Location</th>\n",
       "      <th>Price</th>\n",
       "    </tr>\n",
       "  </thead>\n",
       "  <tbody>\n",
       "    <tr>\n",
       "      <th>0</th>\n",
       "      <td>Hyundai</td>\n",
       "      <td>Verna</td>\n",
       "      <td>1.6 SX VTVT (O) Manual</td>\n",
       "      <td>2019</td>\n",
       "      <td>₹21,837/month</td>\n",
       "      <td>80,631 km</td>\n",
       "      <td>Petrol</td>\n",
       "      <td>1st Owner</td>\n",
       "      <td>New Delhi</td>\n",
       "      <td>981699</td>\n",
       "    </tr>\n",
       "    <tr>\n",
       "      <th>1</th>\n",
       "      <td>Mercedes</td>\n",
       "      <td>Benz</td>\n",
       "      <td>C 200 AVANTGARDE Automatic</td>\n",
       "      <td>2014</td>\n",
       "      <td>₹47,454/month</td>\n",
       "      <td>36,806 km</td>\n",
       "      <td>Petrol</td>\n",
       "      <td>1st Owner</td>\n",
       "      <td>New Delhi</td>\n",
       "      <td>2133299</td>\n",
       "    </tr>\n",
       "    <tr>\n",
       "      <th>2</th>\n",
       "      <td>Maruti</td>\n",
       "      <td>IGNIS</td>\n",
       "      <td>SIGMA 1.2 K12 Manual</td>\n",
       "      <td>2020</td>\n",
       "      <td>₹10,904/month</td>\n",
       "      <td>15,827 km</td>\n",
       "      <td>Petrol</td>\n",
       "      <td>1st Owner</td>\n",
       "      <td>New Delhi</td>\n",
       "      <td>490199</td>\n",
       "    </tr>\n",
       "    <tr>\n",
       "      <th>3</th>\n",
       "      <td>Toyota</td>\n",
       "      <td>Fortuner</td>\n",
       "      <td>3.0 AT 4X2 Automatic</td>\n",
       "      <td>2015</td>\n",
       "      <td>₹35,097/month</td>\n",
       "      <td>90,086 km</td>\n",
       "      <td>Diesel</td>\n",
       "      <td>2nd Owner</td>\n",
       "      <td>New Delhi</td>\n",
       "      <td>1577799</td>\n",
       "    </tr>\n",
       "    <tr>\n",
       "      <th>4</th>\n",
       "      <td>Mercedes</td>\n",
       "      <td>Benz</td>\n",
       "      <td>E 250 CDI AVANTGARDE Automatic</td>\n",
       "      <td>2013</td>\n",
       "      <td>₹32,379/month</td>\n",
       "      <td>42,881 km</td>\n",
       "      <td>Diesel</td>\n",
       "      <td>2nd Owner</td>\n",
       "      <td>New Delhi</td>\n",
       "      <td>1455599</td>\n",
       "    </tr>\n",
       "    <tr>\n",
       "      <th>...</th>\n",
       "      <td>...</td>\n",
       "      <td>...</td>\n",
       "      <td>...</td>\n",
       "      <td>...</td>\n",
       "      <td>...</td>\n",
       "      <td>...</td>\n",
       "      <td>...</td>\n",
       "      <td>...</td>\n",
       "      <td>...</td>\n",
       "      <td>...</td>\n",
       "    </tr>\n",
       "    <tr>\n",
       "      <th>4630</th>\n",
       "      <td>Maruti</td>\n",
       "      <td>Alto</td>\n",
       "      <td>VXI Manual</td>\n",
       "      <td>2020</td>\n",
       "      <td>₹7,987/month</td>\n",
       "      <td>6,257 km</td>\n",
       "      <td>Petrol</td>\n",
       "      <td>1st Owner</td>\n",
       "      <td>Kolkata</td>\n",
       "      <td>359059</td>\n",
       "    </tr>\n",
       "    <tr>\n",
       "      <th>4631</th>\n",
       "      <td>Maruti</td>\n",
       "      <td>Baleno</td>\n",
       "      <td>ALPHA 1.2 K12 Manual</td>\n",
       "      <td>2015</td>\n",
       "      <td>₹11,491/month</td>\n",
       "      <td>65,896 km</td>\n",
       "      <td>Petrol</td>\n",
       "      <td>1st Owner</td>\n",
       "      <td>Kolkata</td>\n",
       "      <td>516599</td>\n",
       "    </tr>\n",
       "    <tr>\n",
       "      <th>4632</th>\n",
       "      <td>Hyundai</td>\n",
       "      <td>Xcent</td>\n",
       "      <td>S 1.2 Manual</td>\n",
       "      <td>2014</td>\n",
       "      <td>₹7,401/month</td>\n",
       "      <td>71,674 km</td>\n",
       "      <td>Petrol</td>\n",
       "      <td>1st Owner</td>\n",
       "      <td>Kolkata</td>\n",
       "      <td>332699</td>\n",
       "    </tr>\n",
       "    <tr>\n",
       "      <th>4633</th>\n",
       "      <td>Maruti</td>\n",
       "      <td>S</td>\n",
       "      <td>VXI PLUS Manual</td>\n",
       "      <td>2019</td>\n",
       "      <td>₹9,127/month</td>\n",
       "      <td>21,973 km</td>\n",
       "      <td>Petrol</td>\n",
       "      <td>1st Owner</td>\n",
       "      <td>Kolkata</td>\n",
       "      <td>410299</td>\n",
       "    </tr>\n",
       "    <tr>\n",
       "      <th>4634</th>\n",
       "      <td>Maruti</td>\n",
       "      <td>Alto</td>\n",
       "      <td>LXI Manual</td>\n",
       "      <td>2019</td>\n",
       "      <td>₹7,501/month</td>\n",
       "      <td>11,575 km</td>\n",
       "      <td>Petrol</td>\n",
       "      <td>1st Owner</td>\n",
       "      <td>Kolkata</td>\n",
       "      <td>337199</td>\n",
       "    </tr>\n",
       "  </tbody>\n",
       "</table>\n",
       "<p>4635 rows × 10 columns</p>\n",
       "</div>"
      ],
      "text/plain": [
       "         Brand     Model                         Variant Manufacturing_year  \\\n",
       "0      Hyundai     Verna          1.6 SX VTVT (O) Manual               2019   \n",
       "1     Mercedes      Benz      C 200 AVANTGARDE Automatic               2014   \n",
       "2       Maruti     IGNIS            SIGMA 1.2 K12 Manual               2020   \n",
       "3       Toyota  Fortuner            3.0 AT 4X2 Automatic               2015   \n",
       "4     Mercedes      Benz  E 250 CDI AVANTGARDE Automatic               2013   \n",
       "...        ...       ...                             ...                ...   \n",
       "4630    Maruti      Alto                      VXI Manual               2020   \n",
       "4631    Maruti    Baleno            ALPHA 1.2 K12 Manual               2015   \n",
       "4632   Hyundai     Xcent                    S 1.2 Manual               2014   \n",
       "4633    Maruti         S                 VXI PLUS Manual               2019   \n",
       "4634    Maruti      Alto                      LXI Manual               2019   \n",
       "\n",
       "                EMI Driven_kilometers    Fuel Number_of_owners   Location  \\\n",
       "0     ₹21,837/month         80,631 km  Petrol        1st Owner  New Delhi   \n",
       "1     ₹47,454/month         36,806 km  Petrol        1st Owner  New Delhi   \n",
       "2     ₹10,904/month         15,827 km  Petrol        1st Owner  New Delhi   \n",
       "3     ₹35,097/month         90,086 km  Diesel        2nd Owner  New Delhi   \n",
       "4     ₹32,379/month         42,881 km  Diesel        2nd Owner  New Delhi   \n",
       "...             ...               ...     ...              ...        ...   \n",
       "4630   ₹7,987/month          6,257 km  Petrol        1st Owner    Kolkata   \n",
       "4631  ₹11,491/month         65,896 km  Petrol        1st Owner    Kolkata   \n",
       "4632   ₹7,401/month         71,674 km  Petrol        1st Owner    Kolkata   \n",
       "4633   ₹9,127/month         21,973 km  Petrol        1st Owner    Kolkata   \n",
       "4634   ₹7,501/month         11,575 km  Petrol        1st Owner    Kolkata   \n",
       "\n",
       "        Price  \n",
       "0      981699  \n",
       "1     2133299  \n",
       "2      490199  \n",
       "3     1577799  \n",
       "4     1455599  \n",
       "...       ...  \n",
       "4630   359059  \n",
       "4631   516599  \n",
       "4632   332699  \n",
       "4633   410299  \n",
       "4634   337199  \n",
       "\n",
       "[4635 rows x 10 columns]"
      ]
     },
     "execution_count": 62,
     "metadata": {},
     "output_type": "execute_result"
    }
   ],
   "source": [
    "df['Price'] = df['Price'].str.replace(',','')\n",
    "df['Price'] = df['Price'].str.replace('₹','')\n",
    "df"
   ]
  },
  {
   "cell_type": "markdown",
   "id": "3a4f97d1",
   "metadata": {},
   "source": [
    "# Description:\n",
    "    brand:Brand name of each car.\n",
    "    Model:Designed model of each car.\n",
    "    variant:variant number given for each car.\n",
    "    manufacturing year:year of manufacture.\n",
    "    EMI:Monthly installments for car buying.\n",
    "    Driven_kilometers:how many kilometers it can drive.\n",
    "    Fuel:What kind of fuel like petrol or diesel used.\n",
    "    Number of Owners:no of owners existed before selling a car.\n",
    "    Location :location where the car present.\n",
    "    Price: Final Price of the car.\n",
    "            "
   ]
  },
  {
   "cell_type": "code",
   "execution_count": 63,
   "id": "b9e863f5",
   "metadata": {},
   "outputs": [
    {
     "data": {
      "text/plain": [
       "Brand                 object\n",
       "Model                 object\n",
       "Variant               object\n",
       "Manufacturing_year    object\n",
       "EMI                   object\n",
       "Driven_kilometers     object\n",
       "Fuel                  object\n",
       "Number_of_owners      object\n",
       "Location              object\n",
       "Price                  int64\n",
       "dtype: object"
      ]
     },
     "execution_count": 63,
     "metadata": {},
     "output_type": "execute_result"
    }
   ],
   "source": [
    "df[\"Price\"] = pd.to_numeric(df[\"Price\"])\n",
    "df.dtypes# checking the data type"
   ]
  },
  {
   "cell_type": "markdown",
   "id": "7064aefa",
   "metadata": {},
   "source": [
    "# Data visualisation:"
   ]
  },
  {
   "cell_type": "code",
   "execution_count": 64,
   "id": "b9243bd7",
   "metadata": {},
   "outputs": [
    {
     "data": {
      "image/png": "[encoded data removed]",
      "text/plain": [
       "<Figure size 1296x1440 with 9 Axes>"
      ]
     },
     "metadata": {},
     "output_type": "display_data"
    }
   ],
   "source": [
    "import seaborn as sns\n",
    "import matplotlib.pyplot as plt\n",
    "\n",
    "y=df['Price']\n",
    "x=df.drop(columns=['Price'])\n",
    "plt.figure(figsize=(18,20),facecolor='white')\n",
    "plotnumber=1\n",
    "for column in x:\n",
    "    if plotnumber<=10:\n",
    "        ax=plt.subplot(2,5,plotnumber)\n",
    "        plt.scatter(x[column],y)\n",
    "        plt.xlabel(column,fontsize=20)\n",
    "        plt.ylabel('Price',fontsize=10)\n",
    "    plotnumber+=1 \n",
    "plt.tight_layout()"
   ]
  },
  {
   "cell_type": "markdown",
   "id": "267200fb",
   "metadata": {},
   "source": [
    "# Ordinal Encoder:"
   ]
  },
  {
   "cell_type": "code",
   "execution_count": 65,
   "id": "855ed8d3",
   "metadata": {},
   "outputs": [
    {
     "data": {
      "text/html": [
       "<div>\n",
       "<style scoped>\n",
       "    .dataframe tbody tr th:only-of-type {\n",
       "        vertical-align: middle;\n",
       "    }\n",
       "\n",
       "    .dataframe tbody tr th {\n",
       "        vertical-align: top;\n",
       "    }\n",
       "\n",
       "    .dataframe thead th {\n",
       "        text-align: right;\n",
       "    }\n",
       "</style>\n",
       "<table border=\"1\" class=\"dataframe\">\n",
       "  <thead>\n",
       "    <tr style=\"text-align: right;\">\n",
       "      <th></th>\n",
       "      <th>Brand</th>\n",
       "      <th>Model</th>\n",
       "      <th>Variant</th>\n",
       "      <th>Manufacturing_year</th>\n",
       "      <th>EMI</th>\n",
       "      <th>Driven_kilometers</th>\n",
       "      <th>Fuel</th>\n",
       "      <th>Number_of_owners</th>\n",
       "      <th>Location</th>\n",
       "      <th>Price</th>\n",
       "    </tr>\n",
       "  </thead>\n",
       "  <tbody>\n",
       "    <tr>\n",
       "      <th>0</th>\n",
       "      <td>5.0</td>\n",
       "      <td>89.0</td>\n",
       "      <td>132.0</td>\n",
       "      <td>11.0</td>\n",
       "      <td>1478.0</td>\n",
       "      <td>2932.0</td>\n",
       "      <td>1.0</td>\n",
       "      <td>0.0</td>\n",
       "      <td>6.0</td>\n",
       "      <td>981699</td>\n",
       "    </tr>\n",
       "    <tr>\n",
       "      <th>1</th>\n",
       "      <td>13.0</td>\n",
       "      <td>12.0</td>\n",
       "      <td>225.0</td>\n",
       "      <td>6.0</td>\n",
       "      <td>1905.0</td>\n",
       "      <td>1426.0</td>\n",
       "      <td>1.0</td>\n",
       "      <td>0.0</td>\n",
       "      <td>6.0</td>\n",
       "      <td>2133299</td>\n",
       "    </tr>\n",
       "    <tr>\n",
       "      <th>2</th>\n",
       "      <td>12.0</td>\n",
       "      <td>46.0</td>\n",
       "      <td>400.0</td>\n",
       "      <td>12.0</td>\n",
       "      <td>188.0</td>\n",
       "      <td>334.0</td>\n",
       "      <td>1.0</td>\n",
       "      <td>0.0</td>\n",
       "      <td>6.0</td>\n",
       "      <td>490199</td>\n",
       "    </tr>\n",
       "    <tr>\n",
       "      <th>3</th>\n",
       "      <td>18.0</td>\n",
       "      <td>37.0</td>\n",
       "      <td>174.0</td>\n",
       "      <td>7.0</td>\n",
       "      <td>1780.0</td>\n",
       "      <td>3087.0</td>\n",
       "      <td>0.0</td>\n",
       "      <td>1.0</td>\n",
       "      <td>6.0</td>\n",
       "      <td>1577799</td>\n",
       "    </tr>\n",
       "    <tr>\n",
       "      <th>4</th>\n",
       "      <td>13.0</td>\n",
       "      <td>12.0</td>\n",
       "      <td>248.0</td>\n",
       "      <td>5.0</td>\n",
       "      <td>1754.0</td>\n",
       "      <td>1709.0</td>\n",
       "      <td>0.0</td>\n",
       "      <td>1.0</td>\n",
       "      <td>6.0</td>\n",
       "      <td>1455599</td>\n",
       "    </tr>\n",
       "    <tr>\n",
       "      <th>...</th>\n",
       "      <td>...</td>\n",
       "      <td>...</td>\n",
       "      <td>...</td>\n",
       "      <td>...</td>\n",
       "      <td>...</td>\n",
       "      <td>...</td>\n",
       "      <td>...</td>\n",
       "      <td>...</td>\n",
       "      <td>...</td>\n",
       "      <td>...</td>\n",
       "    </tr>\n",
       "    <tr>\n",
       "      <th>4630</th>\n",
       "      <td>12.0</td>\n",
       "      <td>7.0</td>\n",
       "      <td>503.0</td>\n",
       "      <td>12.0</td>\n",
       "      <td>2210.0</td>\n",
       "      <td>2358.0</td>\n",
       "      <td>1.0</td>\n",
       "      <td>0.0</td>\n",
       "      <td>4.0</td>\n",
       "      <td>359059</td>\n",
       "    </tr>\n",
       "    <tr>\n",
       "      <th>4631</th>\n",
       "      <td>12.0</td>\n",
       "      <td>11.0</td>\n",
       "      <td>195.0</td>\n",
       "      <td>7.0</td>\n",
       "      <td>308.0</td>\n",
       "      <td>2538.0</td>\n",
       "      <td>1.0</td>\n",
       "      <td>0.0</td>\n",
       "      <td>4.0</td>\n",
       "      <td>516599</td>\n",
       "    </tr>\n",
       "    <tr>\n",
       "      <th>4632</th>\n",
       "      <td>5.0</td>\n",
       "      <td>99.0</td>\n",
       "      <td>372.0</td>\n",
       "      <td>6.0</td>\n",
       "      <td>2107.0</td>\n",
       "      <td>2712.0</td>\n",
       "      <td>1.0</td>\n",
       "      <td>0.0</td>\n",
       "      <td>4.0</td>\n",
       "      <td>332699</td>\n",
       "    </tr>\n",
       "    <tr>\n",
       "      <th>4633</th>\n",
       "      <td>12.0</td>\n",
       "      <td>70.0</td>\n",
       "      <td>509.0</td>\n",
       "      <td>11.0</td>\n",
       "      <td>2410.0</td>\n",
       "      <td>677.0</td>\n",
       "      <td>1.0</td>\n",
       "      <td>0.0</td>\n",
       "      <td>4.0</td>\n",
       "      <td>410299</td>\n",
       "    </tr>\n",
       "    <tr>\n",
       "      <th>4634</th>\n",
       "      <td>12.0</td>\n",
       "      <td>7.0</td>\n",
       "      <td>324.0</td>\n",
       "      <td>11.0</td>\n",
       "      <td>2123.0</td>\n",
       "      <td>153.0</td>\n",
       "      <td>1.0</td>\n",
       "      <td>0.0</td>\n",
       "      <td>4.0</td>\n",
       "      <td>337199</td>\n",
       "    </tr>\n",
       "  </tbody>\n",
       "</table>\n",
       "<p>4635 rows × 10 columns</p>\n",
       "</div>"
      ],
      "text/plain": [
       "      Brand  Model  Variant  Manufacturing_year     EMI  Driven_kilometers  \\\n",
       "0       5.0   89.0    132.0                11.0  1478.0             2932.0   \n",
       "1      13.0   12.0    225.0                 6.0  1905.0             1426.0   \n",
       "2      12.0   46.0    400.0                12.0   188.0              334.0   \n",
       "3      18.0   37.0    174.0                 7.0  1780.0             3087.0   \n",
       "4      13.0   12.0    248.0                 5.0  1754.0             1709.0   \n",
       "...     ...    ...      ...                 ...     ...                ...   \n",
       "4630   12.0    7.0    503.0                12.0  2210.0             2358.0   \n",
       "4631   12.0   11.0    195.0                 7.0   308.0             2538.0   \n",
       "4632    5.0   99.0    372.0                 6.0  2107.0             2712.0   \n",
       "4633   12.0   70.0    509.0                11.0  2410.0              677.0   \n",
       "4634   12.0    7.0    324.0                11.0  2123.0              153.0   \n",
       "\n",
       "      Fuel  Number_of_owners  Location    Price  \n",
       "0      1.0               0.0       6.0   981699  \n",
       "1      1.0               0.0       6.0  2133299  \n",
       "2      1.0               0.0       6.0   490199  \n",
       "3      0.0               1.0       6.0  1577799  \n",
       "4      0.0               1.0       6.0  1455599  \n",
       "...    ...               ...       ...      ...  \n",
       "4630   1.0               0.0       4.0   359059  \n",
       "4631   1.0               0.0       4.0   516599  \n",
       "4632   1.0               0.0       4.0   332699  \n",
       "4633   1.0               0.0       4.0   410299  \n",
       "4634   1.0               0.0       4.0   337199  \n",
       "\n",
       "[4635 rows x 10 columns]"
      ]
     },
     "execution_count": 65,
     "metadata": {},
     "output_type": "execute_result"
    }
   ],
   "source": [
    "from sklearn.preprocessing import OrdinalEncoder\n",
    "ord_enc=OrdinalEncoder()\n",
    "\n",
    "for i in df.columns:\n",
    "    if df[i].dtypes==\"object\":\n",
    "        df[i]=ord_enc.fit_transform(df[i].values.reshape(-1,1))\n",
    "df"
   ]
  },
  {
   "cell_type": "markdown",
   "id": "5363738d",
   "metadata": {},
   "source": [
    "# Correlation Using Heat Map:"
   ]
  },
  {
   "cell_type": "code",
   "execution_count": 66,
   "id": "4db2c893",
   "metadata": {},
   "outputs": [
    {
     "data": {
      "image/png": "[encoded data removed]",
      "text/plain": [
       "<Figure size 1584x1152 with 2 Axes>"
      ]
     },
     "metadata": {
      "needs_background": "light"
     },
     "output_type": "display_data"
    }
   ],
   "source": [
    "df_corr=df.corr().abs()\n",
    "\n",
    "plt.figure(figsize=(22,16))\n",
    "sns.heatmap(df_corr,annot=True,annot_kws={'size':12})\n",
    "plt.title('correlation matrix')\n",
    "plt.show() "
   ]
  },
  {
   "cell_type": "markdown",
   "id": "e65e66e5",
   "metadata": {},
   "source": [
    "# Correlation of Price variable with all the  feature variables in the data set:"
   ]
  },
  {
   "cell_type": "code",
   "execution_count": 67,
   "id": "a7e3027f",
   "metadata": {},
   "outputs": [
    {
     "data": {
      "image/png": "[encoded data removed]",
      "text/plain": [
       "<Figure size 720x504 with 1 Axes>"
      ]
     },
     "metadata": {
      "needs_background": "light"
     },
     "output_type": "display_data"
    }
   ],
   "source": [
    "df.drop('Price',axis=1).corrwith(df.Price).plot(kind='bar',grid=False,figsize=(10,7),title='Correlation with Price')\n",
    "plt.show()"
   ]
  },
  {
   "cell_type": "markdown",
   "id": "7b718a2f",
   "metadata": {},
   "source": [
    "# Checking Outliers:"
   ]
  },
  {
   "cell_type": "code",
   "execution_count": 68,
   "id": "5a5e6317",
   "metadata": {},
   "outputs": [
    {
     "data": {
      "image/png": "[encoded data removed]",
      "text/plain": [
       "<Figure size 1080x1296 with 9 Axes>"
      ]
     },
     "metadata": {
      "needs_background": "light"
     },
     "output_type": "display_data"
    }
   ],
   "source": [
    "x=df.drop(columns=['Price'])\n",
    "plt.figure(figsize=(15,18))\n",
    "graph=1\n",
    "for column in x:\n",
    "    if graph<=10:\n",
    "        ax=plt.subplot(2,5,graph)\n",
    "        sns.boxplot(x[column],orient='v')\n",
    "        plt.xlabel(column)\n",
    "    graph+=1\n",
    "plt.show()  "
   ]
  },
  {
   "cell_type": "markdown",
   "id": "4283387b",
   "metadata": {},
   "source": [
    "# Checking Skewness:"
   ]
  },
  {
   "cell_type": "code",
   "execution_count": 70,
   "id": "f9392df0",
   "metadata": {},
   "outputs": [
    {
     "data": {
      "text/plain": [
       "Brand                -0.066742\n",
       "Model                 0.256335\n",
       "Variant              -0.359346\n",
       "Manufacturing_year   -0.369197\n",
       "EMI                   0.017008\n",
       "Driven_kilometers    -0.059150\n",
       "Fuel                 -0.575632\n",
       "Number_of_owners      1.953931\n",
       "Location             -0.162155\n",
       "Price                 1.790819\n",
       "dtype: float64"
      ]
     },
     "execution_count": 70,
     "metadata": {},
     "output_type": "execute_result"
    }
   ],
   "source": [
    "df.skew()"
   ]
  },
  {
   "cell_type": "markdown",
   "id": "8f404575",
   "metadata": {},
   "source": [
    "# Removing Outliers:\n",
    "#Z Score Technique"
   ]
  },
  {
   "cell_type": "code",
   "execution_count": 72,
   "id": "268dde88",
   "metadata": {},
   "outputs": [
    {
     "data": {
      "text/html": [
       "<div>\n",
       "<style scoped>\n",
       "    .dataframe tbody tr th:only-of-type {\n",
       "        vertical-align: middle;\n",
       "    }\n",
       "\n",
       "    .dataframe tbody tr th {\n",
       "        vertical-align: top;\n",
       "    }\n",
       "\n",
       "    .dataframe thead th {\n",
       "        text-align: right;\n",
       "    }\n",
       "</style>\n",
       "<table border=\"1\" class=\"dataframe\">\n",
       "  <thead>\n",
       "    <tr style=\"text-align: right;\">\n",
       "      <th></th>\n",
       "      <th>Brand</th>\n",
       "      <th>Model</th>\n",
       "      <th>Variant</th>\n",
       "      <th>Manufacturing_year</th>\n",
       "      <th>EMI</th>\n",
       "      <th>Driven_kilometers</th>\n",
       "      <th>Fuel</th>\n",
       "      <th>Number_of_owners</th>\n",
       "      <th>Location</th>\n",
       "      <th>Price</th>\n",
       "    </tr>\n",
       "  </thead>\n",
       "  <tbody>\n",
       "    <tr>\n",
       "      <th>0</th>\n",
       "      <td>5.0</td>\n",
       "      <td>89.0</td>\n",
       "      <td>132.0</td>\n",
       "      <td>11.0</td>\n",
       "      <td>1478.0</td>\n",
       "      <td>2932.0</td>\n",
       "      <td>1.0</td>\n",
       "      <td>0.0</td>\n",
       "      <td>6.0</td>\n",
       "      <td>981699</td>\n",
       "    </tr>\n",
       "    <tr>\n",
       "      <th>2</th>\n",
       "      <td>12.0</td>\n",
       "      <td>46.0</td>\n",
       "      <td>400.0</td>\n",
       "      <td>12.0</td>\n",
       "      <td>188.0</td>\n",
       "      <td>334.0</td>\n",
       "      <td>1.0</td>\n",
       "      <td>0.0</td>\n",
       "      <td>6.0</td>\n",
       "      <td>490199</td>\n",
       "    </tr>\n",
       "    <tr>\n",
       "      <th>3</th>\n",
       "      <td>18.0</td>\n",
       "      <td>37.0</td>\n",
       "      <td>174.0</td>\n",
       "      <td>7.0</td>\n",
       "      <td>1780.0</td>\n",
       "      <td>3087.0</td>\n",
       "      <td>0.0</td>\n",
       "      <td>1.0</td>\n",
       "      <td>6.0</td>\n",
       "      <td>1577799</td>\n",
       "    </tr>\n",
       "    <tr>\n",
       "      <th>4</th>\n",
       "      <td>13.0</td>\n",
       "      <td>12.0</td>\n",
       "      <td>248.0</td>\n",
       "      <td>5.0</td>\n",
       "      <td>1754.0</td>\n",
       "      <td>1709.0</td>\n",
       "      <td>0.0</td>\n",
       "      <td>1.0</td>\n",
       "      <td>6.0</td>\n",
       "      <td>1455599</td>\n",
       "    </tr>\n",
       "    <tr>\n",
       "      <th>5</th>\n",
       "      <td>4.0</td>\n",
       "      <td>48.0</td>\n",
       "      <td>47.0</td>\n",
       "      <td>10.0</td>\n",
       "      <td>637.0</td>\n",
       "      <td>752.0</td>\n",
       "      <td>1.0</td>\n",
       "      <td>1.0</td>\n",
       "      <td>6.0</td>\n",
       "      <td>601299</td>\n",
       "    </tr>\n",
       "  </tbody>\n",
       "</table>\n",
       "</div>"
      ],
      "text/plain": [
       "   Brand  Model  Variant  Manufacturing_year     EMI  Driven_kilometers  Fuel  \\\n",
       "0    5.0   89.0    132.0                11.0  1478.0             2932.0   1.0   \n",
       "2   12.0   46.0    400.0                12.0   188.0              334.0   1.0   \n",
       "3   18.0   37.0    174.0                 7.0  1780.0             3087.0   0.0   \n",
       "4   13.0   12.0    248.0                 5.0  1754.0             1709.0   0.0   \n",
       "5    4.0   48.0     47.0                10.0   637.0              752.0   1.0   \n",
       "\n",
       "   Number_of_owners  Location    Price  \n",
       "0               0.0       6.0   981699  \n",
       "2               0.0       6.0   490199  \n",
       "3               1.0       6.0  1577799  \n",
       "4               1.0       6.0  1455599  \n",
       "5               1.0       6.0   601299  "
      ]
     },
     "execution_count": 72,
     "metadata": {},
     "output_type": "execute_result"
    }
   ],
   "source": [
    "from scipy.stats import zscore\n",
    "import numpy as np\n",
    "zsc=zscore(df)\n",
    "abs_z_score=np.abs(zsc)\n",
    "filtering_entry=(abs_z_score<3).all(axis=1)\n",
    "df1=df[filtering_entry]\n",
    "df1.head()"
   ]
  },
  {
   "cell_type": "code",
   "execution_count": 75,
   "id": "67db7b78",
   "metadata": {},
   "outputs": [
    {
     "data": {
      "text/plain": [
       "(4403, 10)"
      ]
     },
     "execution_count": 75,
     "metadata": {},
     "output_type": "execute_result"
    }
   ],
   "source": [
    "df1.shape"
   ]
  },
  {
   "cell_type": "code",
   "execution_count": 77,
   "id": "da33c711",
   "metadata": {},
   "outputs": [],
   "source": [
    "df1=df"
   ]
  },
  {
   "cell_type": "markdown",
   "id": "6840b200",
   "metadata": {},
   "source": [
    "# Loss Percentage:"
   ]
  },
  {
   "cell_type": "code",
   "execution_count": 76,
   "id": "68a6a04a",
   "metadata": {},
   "outputs": [
    {
     "data": {
      "text/plain": [
       "5.005393743257821"
      ]
     },
     "execution_count": 76,
     "metadata": {},
     "output_type": "execute_result"
    }
   ],
   "source": [
    "loss_percent=(4635-4403)/4635*100\n",
    "loss_percent"
   ]
  },
  {
   "cell_type": "markdown",
   "id": "97ce191c",
   "metadata": {},
   "source": [
    "# Model Building:"
   ]
  },
  {
   "cell_type": "code",
   "execution_count": 78,
   "id": "a0371ccb",
   "metadata": {},
   "outputs": [],
   "source": [
    "x=df.drop(columns='Price')\n",
    "y=df.Price"
   ]
  },
  {
   "cell_type": "markdown",
   "id": "182d4cfd",
   "metadata": {},
   "source": [
    "# Scaling:"
   ]
  },
  {
   "cell_type": "code",
   "execution_count": 79,
   "id": "57c913c5",
   "metadata": {},
   "outputs": [
    {
     "data": {
      "text/plain": [
       "array([[-1.02302967,  1.34341573, -1.2623151 , ...,  0.68706304,\n",
       "        -0.48757455,  0.673638  ],\n",
       "       [ 0.76504199, -1.19311913, -0.71503443, ...,  0.68706304,\n",
       "        -0.48757455,  0.673638  ],\n",
       "       [ 0.54153303, -0.07309075,  0.31479478, ...,  0.68706304,\n",
       "        -0.48757455,  0.673638  ],\n",
       "       ...,\n",
       "       [-1.02302967,  1.67283584,  0.1500221 , ...,  0.68706304,\n",
       "        -0.48757455, -0.0780019 ],\n",
       "       [ 0.54153303,  0.71751751,  0.95623126, ...,  0.68706304,\n",
       "        -0.48757455, -0.0780019 ],\n",
       "       [ 0.54153303, -1.35782919, -0.13244534, ...,  0.68706304,\n",
       "        -0.48757455, -0.0780019 ]])"
      ]
     },
     "execution_count": 79,
     "metadata": {},
     "output_type": "execute_result"
    }
   ],
   "source": [
    "from sklearn.preprocessing import StandardScaler\n",
    "sc=StandardScaler()\n",
    "x=sc.fit_transform(x)\n",
    "x"
   ]
  },
  {
   "cell_type": "code",
   "execution_count": 80,
   "id": "c9076ceb",
   "metadata": {},
   "outputs": [],
   "source": [
    "from sklearn.metrics import r2_score\n",
    "from sklearn.linear_model import LinearRegression\n",
    "from sklearn.model_selection import train_test_split"
   ]
  },
  {
   "cell_type": "markdown",
   "id": "2a9a863e",
   "metadata": {},
   "source": [
    "# Creating train-test split:"
   ]
  },
  {
   "cell_type": "code",
   "execution_count": 142,
   "id": "f4be6dc4",
   "metadata": {},
   "outputs": [],
   "source": [
    "x_train,x_test,y_train,y_test=train_test_split(x,y,test_size=0.20,random_state=112)"
   ]
  },
  {
   "cell_type": "markdown",
   "id": "a9576d53",
   "metadata": {},
   "source": [
    "# Linear Regression Model:"
   ]
  },
  {
   "cell_type": "code",
   "execution_count": 143,
   "id": "f1f26ae8",
   "metadata": {},
   "outputs": [
    {
     "data": {
      "text/plain": [
       "LinearRegression()"
      ]
     },
     "execution_count": 143,
     "metadata": {},
     "output_type": "execute_result"
    }
   ],
   "source": [
    "regression=LinearRegression()\n",
    "regression.fit(x_train,y_train)"
   ]
  },
  {
   "cell_type": "code",
   "execution_count": 144,
   "id": "1c76177d",
   "metadata": {},
   "outputs": [
    {
     "data": {
      "text/plain": [
       "array([ 581711.08137639,  416324.85636419,  955458.70497293,\n",
       "        683891.60283964,  491055.51851638,  643194.00157847,\n",
       "        516524.25349891,  116488.67510175,  839310.12592747,\n",
       "        795955.50285659,  729009.22910263,  774353.16838972,\n",
       "         37681.73434665,  762600.7136035 ,  696513.5200077 ,\n",
       "        789878.51588771,  412668.89020667,  662437.08808248,\n",
       "        660204.45298419,  429760.70299626,  613408.2963188 ,\n",
       "        671836.80802713,  683268.25758953,  906353.71623353,\n",
       "        749353.03825541,  624132.5467582 , 1018109.61277775,\n",
       "        585517.13052771,  436187.29413065,  808525.79697054,\n",
       "        626123.93134336,   -4512.09656176,  866202.24245182,\n",
       "        541361.57833847,  771344.8800986 ,  571334.34160903,\n",
       "        530005.86632436,  936745.44773167,  527170.11412806,\n",
       "        612209.09859065,  682312.4307414 ,  733641.20276342,\n",
       "        818723.97636707, 1078857.33233209,  842865.63176149,\n",
       "        706489.82646534,  500270.8876967 ,  476990.45456829,\n",
       "        759535.07669174,  697342.90691411,  888208.54225813,\n",
       "        797355.26896426,  314751.22068408,  858457.80700598,\n",
       "        618553.84016978,  595874.13075726,  616061.87515251,\n",
       "        708936.57990101,  767815.77880037,  843789.39233156,\n",
       "        626036.16280927,  489407.27126009,  455797.07225701,\n",
       "        670740.41237028,  446742.62092103, 1059489.31014365,\n",
       "        648032.904402  ,  826405.94924456,  747488.33809229,\n",
       "       1046757.06289466,  605161.58480704,  767439.07975719,\n",
       "        782640.60903301,  426806.47231972,  854684.75087884,\n",
       "        792991.98983164,  621147.38743188,  736974.24214744,\n",
       "        704643.70902865,  792820.51669304,  603430.16351117,\n",
       "        528179.32890113,  637142.52519458,  154468.64596081,\n",
       "        730675.81511198,  563415.99021248,  558277.91610083,\n",
       "        115508.71159043,  778659.81852288,  689948.00939712,\n",
       "        676338.43777694,  616636.33665507,  943522.05282183,\n",
       "        664844.1195232 ,  968085.54998544,  523798.01234196,\n",
       "        347207.57192436,  577873.20113296,  591024.05379471,\n",
       "        681405.39156396,  688739.10457871,  649189.08889082,\n",
       "        243087.18724713,  603039.83728373,  648651.822793  ,\n",
       "        758866.73615195,  705320.67891018,  915453.05415751,\n",
       "        594871.52532135,  842744.27130643,  699248.26757957,\n",
       "        679804.00790211, 1001959.64565516,  874940.7879894 ,\n",
       "        785728.19808174,  689684.27720922,  593826.13095618,\n",
       "        586338.83360196,  797181.20407446,  461004.10752872,\n",
       "        680585.10078573,  566595.01339328,  974678.04855787,\n",
       "        773836.19739473,  609324.71902645,  898785.55180501,\n",
       "        549715.68193769,  569058.4148133 ,  616489.48812697,\n",
       "        690024.25176576,  806025.82730738,  590853.38963009,\n",
       "        589542.72811027,  536491.54057505,  526274.03713691,\n",
       "        840341.79544962,  552091.46545795,  629658.98523783,\n",
       "        505435.32134076,  779450.3907868 ,  518984.91624744,\n",
       "        825284.21794932,  555377.73970098,  842533.40095558,\n",
       "        528171.3509677 ,  721680.7736066 ,  736332.76956922,\n",
       "        554536.98531774,  705601.81599884,  972378.49079456,\n",
       "        374645.42298694,  850169.5973687 ,  961686.7685698 ,\n",
       "        684258.26108159,  481800.90885539,  568744.37864552,\n",
       "        761201.63275615,  592859.69544686,  604336.15605636,\n",
       "        776313.28967753,  659326.00518901,  783604.49326802,\n",
       "        965794.29021895,  965259.4672372 ,  667209.62510386,\n",
       "        978327.43717987,  633335.58247853,  767581.91357075,\n",
       "        525927.1150693 ,  691593.26776012,  844746.72395894,\n",
       "        444799.41332287,  463777.43915096,  928696.14166687,\n",
       "        346969.48582686,  508606.35347469,  478757.56589045,\n",
       "        737851.95985331,  963067.95836309,  705223.90270391,\n",
       "        500782.15574072,  587413.52218546,  711891.15139243,\n",
       "        508754.42362823,  641548.59104253,  784275.5425711 ,\n",
       "        586727.11911878,  632056.0444386 ,  654755.89449573,\n",
       "        559247.22545775,  558336.50408194,  533398.854145  ,\n",
       "        614265.35776031,  346029.90436128,  546439.47059205,\n",
       "       1069576.76657017,  740667.56118467,  676470.89051399,\n",
       "       1097803.77341648,  756726.48328512, 1002407.50063486,\n",
       "        530661.97805913,  769818.19476289,  578930.39942272,\n",
       "        762434.43183661,  753795.06181   ,  539894.74161255,\n",
       "        787460.68781089,  634969.71706811,  736483.29687157,\n",
       "        789363.7627939 ,  407218.66978048,  976579.96924918,\n",
       "        584631.71865598,  902059.13218358,  645494.61978313,\n",
       "        640063.86878093,  710590.33404931,  313001.62103763,\n",
       "        503165.97698345,  525883.75484983,  736668.90327388,\n",
       "        519467.69316974,  620493.42135717,  766863.73257121,\n",
       "        505478.10416531,  647016.74371752,  501220.61716261,\n",
       "        977467.78625174,  607165.74375458,  358625.69963866,\n",
       "        526244.97193011,  698131.68654555,  560212.99212311,\n",
       "        718408.75433971,  454559.58897191,  397909.93732224,\n",
       "        590145.53062687,  543311.36194908,  554018.14503527,\n",
       "        871137.71912764,  529698.70527681,  782860.74454404,\n",
       "        721555.58882553,  938155.70397564,  518679.10089626,\n",
       "        824629.4764746 ,  721652.00218882, 1085404.86082095,\n",
       "        407769.72359889,  645888.64635045,  953944.24364379,\n",
       "        687435.40075852,  436349.33978253,  994670.10026211,\n",
       "        899280.26145552,  575861.94541916,  755862.08104611,\n",
       "        528078.2313709 ,  610922.59151544,  850752.71536573,\n",
       "        934688.58759764,  873017.23273768,  506713.16324285,\n",
       "        622420.99260074,  929346.7649379 ,  432285.85582956,\n",
       "       1005156.82602187,  884383.68039609,  634236.97341391,\n",
       "        610789.69672898,  593269.34818597,  400028.0199277 ,\n",
       "        477877.83645788,  799694.37468188,  972807.53973845,\n",
       "        440117.85673328,  593680.88478982,  748868.59065697,\n",
       "        505490.53992439,  448164.1524758 ,  647754.59537881,\n",
       "        672811.04323937,  479765.97482944,  777758.43718939,\n",
       "        862987.99293834,  764172.01662537,  726312.95336591,\n",
       "        937308.63834765,  779631.34430386,  704618.32768648,\n",
       "        686531.07769822,  718691.5606381 ,  655046.63755056,\n",
       "        857218.50871391,  588271.69451211,  364728.09906352,\n",
       "        555636.06073618,  610400.98532853,  668458.29242089,\n",
       "        541283.33286191,  409747.00916628,  715774.69141401,\n",
       "        592876.64333162,  604044.23142899,  520187.06404196,\n",
       "        709299.05544741,  385703.74437536,  719550.93331627,\n",
       "        910878.20775088,  562128.8065567 ,  146049.51268844,\n",
       "        807190.08616738,  897923.90041824,  898336.91354135,\n",
       "        509675.51364657,  880344.64046975,  453913.64209114,\n",
       "        650799.50145035,  918588.11746154,  718727.97295724,\n",
       "        450006.62055354,  512770.10574536,  618729.42120284,\n",
       "        714538.3786121 ,  586141.13645781,  635438.76620636,\n",
       "       1128780.52760874,  834989.60582474,  639550.01278327,\n",
       "        804942.02165962,  559197.94553835,  611793.07748383,\n",
       "        704882.49137276,  798493.17178854,  697951.13886774,\n",
       "        712210.22841931,  680408.42452273,  761343.8177115 ,\n",
       "        329943.69481908,  879597.0052663 ,  913736.5387218 ,\n",
       "        566859.27755682,  755736.8890353 , 1171268.80726642,\n",
       "        618833.34774538,  453052.43597941,  693998.26914186,\n",
       "        880902.6584184 ,  681398.57166417,  929477.23152567,\n",
       "        468493.18720891,  736301.84594734,  607938.66690014,\n",
       "        808658.87279916,  784054.4108004 ,  774813.11658154,\n",
       "        748030.77805758,  105516.17563525,  193020.74397808,\n",
       "        879339.95123197,  871737.56887771,  516588.57652139,\n",
       "        755211.12384269,  160823.50560975,  512941.22683972,\n",
       "       1030677.43578199,  441183.36736938,  616140.6339443 ,\n",
       "        790421.74470821,  529716.6038364 ,  663744.39452614,\n",
       "        879527.03899049,  709994.80253173,  711009.28134058,\n",
       "        643745.60213284,  539219.31720259,  807104.62206611,\n",
       "        207423.84881815,  392674.93008026,  680009.55011587,\n",
       "        476493.01353289,  910706.7455733 ,  864877.03352433,\n",
       "        680162.44555036,  168040.60806412,  818668.91837772,\n",
       "        815080.00547059,  740625.34362223,  748585.86088547,\n",
       "        794010.01316127,  464907.62419032,  544880.05714475,\n",
       "        775418.73411051,  722002.75501087,  864584.76697471,\n",
       "        442581.19090487,  616773.36628879,  794941.04641059,\n",
       "        240268.29031794,  803937.23054912,  145942.32492704,\n",
       "        286828.03035519,  621621.6361762 ,  497211.52706409,\n",
       "        768738.43214806,  541442.40528602,  201358.08312692,\n",
       "        863446.57231077,  657764.52629018,  970351.90565232,\n",
       "        690515.33934661,  535444.87401473,  561359.67614989,\n",
       "        293180.7249695 ,  323715.63122222,  212154.52158651,\n",
       "        603515.99933713,  673559.90252483,  532299.35626539,\n",
       "        607512.00223803,  995760.90537222,  585894.19251999,\n",
       "        564781.34503021,  594729.96776298,  755802.29993058,\n",
       "        367075.22452191,  470405.15353142,  964214.93448691,\n",
       "        440395.96627127,  373674.38942351,  691433.2756556 ,\n",
       "       1008608.10423606,  623460.84383981,  589614.58170179,\n",
       "        838626.66475442,  874929.71031588,  724749.98072909,\n",
       "        954623.37312748,  703622.00373137,  735214.10169573,\n",
       "        749761.06680169,  620053.12068086,  664014.81089822,\n",
       "        389673.40649306,  745172.97169321,  658420.72073888,\n",
       "        501775.13035314,  777415.57483494,  786666.02865416,\n",
       "        510360.51292453,  742655.31483781,  635108.81809262,\n",
       "        581340.90571526,  944159.47581677,  666602.15263279,\n",
       "        645792.84269568,  784594.60577357,  723220.92250109,\n",
       "        599493.32293719,  762451.29077029, 1014027.60039739,\n",
       "        495251.50263246,  682954.27800678,  771324.85690534,\n",
       "        782290.8384471 ,  605950.420381  ,  195714.28043965,\n",
       "        485994.03842631,  635451.78686054,  782707.91919602,\n",
       "        546818.50808503,  460741.05520478,  729291.44329386,\n",
       "        421894.03238025,  682639.87711284,  542033.95725874,\n",
       "        650656.10035789,  749315.89516717,  999930.59550715,\n",
       "        695984.43750752,  587089.67059877,  899128.73548899,\n",
       "        807051.72944433,  303166.85451172,  442879.41738795,\n",
       "        639605.69368944,  474891.93912453,  648911.97216612,\n",
       "        589022.05691224,  750810.11859356,  528047.04342087,\n",
       "        517569.94874509,  520587.57564033,  800091.90556509,\n",
       "        160587.1519031 ,  362946.18422227,  276358.74259452,\n",
       "        766015.33903381,  161425.56116038,  699604.09796309,\n",
       "        884444.14409007,  886597.38187962,  692974.15520485,\n",
       "        742189.32008766,  449089.35779376,  713322.8697194 ,\n",
       "        576076.50082086,  503267.07451367,  423265.73144847,\n",
       "        748491.02631954,  710601.61911695,  739593.47903246,\n",
       "        672191.1682389 ,  288879.86537589,  978119.31702882,\n",
       "        852657.82141867, 1177626.62053661,  903916.95716793,\n",
       "        893313.0070052 ,  741071.15901399,  630875.6766799 ,\n",
       "        616787.93874198,  770271.09549316, 1071015.31665503,\n",
       "        718994.96652905,  559075.84941042,  365437.71565445,\n",
       "        607396.2532694 ,  763858.41961379,  605292.20299033,\n",
       "        774934.71173229,  618695.00848062,  962993.77366304,\n",
       "        701165.6248319 ,  696327.69780934,  365258.48482304,\n",
       "       1088156.90147982,  448609.29234149,  563317.63828444,\n",
       "        901847.1483753 ,  833830.10568018,  536166.77923471,\n",
       "        781000.95805375,  486230.40045692,  598478.97472742,\n",
       "        442642.97589069,  848408.14036964,  583255.46012356,\n",
       "        572176.94817153,  595849.3444015 ,  947556.65857728,\n",
       "        948279.67060401,  836559.15235052,  610303.79250403,\n",
       "        735708.40390501,  492178.00826138,  778961.45902488,\n",
       "        436506.27256474,  729677.16175314,  891075.00001455,\n",
       "        713603.7865505 ,  889856.72018111,  586566.86162888,\n",
       "        336935.36575948,  298142.47309126,  700911.82240294,\n",
       "        684372.60532652,  347793.20575057,  705691.79667005,\n",
       "        567074.78209913,  457976.24069103,  529497.87965007,\n",
       "        631300.02261509,  795334.46707887,  532198.56587873,\n",
       "        490620.17889507,  706749.25317146,  504357.54068171,\n",
       "        744874.8227439 ,  904806.63786799,  486307.06352109,\n",
       "        889804.89774978,  749732.82609955,  406219.17513584,\n",
       "        874145.40141699,  633252.81506902,  677819.72303036,\n",
       "        518706.273915  ,  497741.63020804,  306326.38582983,\n",
       "        832306.25432645,  564927.83955301,  392983.46426303,\n",
       "        688437.97822197,  685606.21829635,  792528.27836167,\n",
       "        737608.98112148,  983533.37678437,  899114.73077532,\n",
       "        641803.87136561,  328582.95390817,  493304.19419036,\n",
       "        712112.53689253,  708803.8572271 ,  476718.39066937,\n",
       "        770080.30775489,  872456.68185953,  543591.35528372,\n",
       "        425239.17776844,  832378.65356714,  474292.26898179,\n",
       "        724596.57105097,  613825.05708399,  533195.87511204,\n",
       "        576247.07869291, 1036561.63348022,  791455.28698522,\n",
       "        927581.16434227,  712455.0712997 ,  670734.98357251,\n",
       "        504804.34944895,  940016.7905171 ,  846319.46511616,\n",
       "        583738.12806442,  724507.87660757,  606060.73845126,\n",
       "        826315.2670207 ,  802485.19808292,  437468.1762593 ,\n",
       "        783483.06682871,  764145.070875  ,  886142.07406857,\n",
       "        469716.73890426,  756853.7004401 ,  711725.41877005,\n",
       "        874055.19207872,  483288.57555415,  578336.88799069,\n",
       "        783548.83256091,  681883.50362986,  574792.93040718,\n",
       "        755725.64510776,  117778.57816759,  254471.51196385,\n",
       "        614450.14552916,  759880.04141639,  931265.97062099,\n",
       "        969246.57133578,  781634.30143113,  684180.72663043,\n",
       "        661926.67911461,  595048.3079521 ,  751131.46255029,\n",
       "        572289.84552685,  492657.69435763,  786377.16536937,\n",
       "        500166.1945726 ,  609531.62499556,  606623.33576384,\n",
       "        772800.47017837,  463832.40035897,  701661.45812064,\n",
       "        114890.2698263 ,  966857.01694394,  564878.74899264,\n",
       "        696238.8319676 ,  506161.68810496,  615033.00781356,\n",
       "        117660.93861081,  791694.16507301,  589324.49213368,\n",
       "        560152.06169958,  415517.64492396,  624405.57732465,\n",
       "        516538.10414513,  810829.81027915,  607015.82211812,\n",
       "        596021.94538152,  581346.52175494,  818374.19310299,\n",
       "        935057.27515225,  711583.46066445,  772296.75482388,\n",
       "        650362.78990277,  433124.8669222 ,  552123.69885779,\n",
       "        690862.43702655,  634705.85039437,  726686.51924258,\n",
       "        197480.94409773,  728265.25693509,  752695.90680985,\n",
       "        344033.87691569,  605891.60637012,  511656.62968284,\n",
       "        699881.85718161,  613687.50737701,  550226.79989033,\n",
       "        996424.66025894,  841890.02442524,  650728.87025876,\n",
       "        795007.26140951,  648805.1191465 ,  480829.47456459,\n",
       "        782928.10258051,  647626.8129848 ,  871461.88676113,\n",
       "        457759.68151286,  535491.51051629,  505180.81062121,\n",
       "        441841.94735918,  532038.21549337,  419623.36235268,\n",
       "        538977.06198994,  718535.94432668,  655119.93365686,\n",
       "        979110.75820859,  848972.33490329, 1006958.48646365,\n",
       "        706786.097112  , 1125395.09219504,  614895.80329699,\n",
       "        356435.51443623,  591403.8816627 ,  124006.64176445,\n",
       "        739948.33916866,  558184.17414936, 1076899.25129561,\n",
       "        967885.76571599,  656319.20485271,  674975.14049569,\n",
       "        584505.71026772,  685805.85007104,  834489.75429934,\n",
       "        805195.80925349,  608624.52173239,  489107.35389784,\n",
       "        580734.46932064,  520792.58869967,  567719.17880088,\n",
       "        563812.94401997,  534306.29496777,  959641.85427304,\n",
       "        712164.09851302,  566070.90821725,  945670.58676662,\n",
       "        688469.17817066,  991129.58806825,  490137.77318752,\n",
       "        770550.55356454, 1006039.8651902 ,  891792.34991519,\n",
       "        597581.56479146,  523363.90152131,  728921.59128244,\n",
       "        487292.80174445,  800117.71473253,  619783.77970881,\n",
       "        787363.15750291,  639935.38822885,  829618.71054033,\n",
       "        824159.64639927,  591377.31614836,  -46393.29410089,\n",
       "       1026359.97393061,  526832.28375209,  425688.44481765,\n",
       "        672791.32600309, 1020885.12659196,  840517.30478901,\n",
       "        767549.88063666,  681706.97691943,  861747.76296918,\n",
       "        737051.27361821,  645097.89101569,  656368.88429274,\n",
       "        865815.79801762,  537953.42487475,  800734.04350738,\n",
       "        476342.31369242,  725822.40896185,  782490.68186168,\n",
       "        544181.48847162,  614975.02764909,  408641.82133469,\n",
       "        877015.60807466,  755357.70237583,  283892.08605323,\n",
       "        931234.497635  ,  628112.44672613,  475069.1153285 ,\n",
       "        865031.57720267,  594154.79868316,  608393.9852449 ,\n",
       "        531776.67342234,  746153.8949161 ,  560236.99816404,\n",
       "        406112.02925845,  921632.80734513, 1016454.28109657,\n",
       "        789540.77585968,  389853.94613978, 1093718.18871097,\n",
       "        468627.93342415, 1002652.72385581,  591960.9181244 ,\n",
       "        800790.27767751,  574506.40572378,  733031.69864105,\n",
       "        512972.40559   ,  744988.22602792,  632134.20970338,\n",
       "        715657.04515111,  588778.05615847, 1016348.1751764 ,\n",
       "          4235.335186  ,  524859.20278181,  945907.47792531,\n",
       "        679990.27417984,  750843.60679882,  770743.68891487,\n",
       "        814011.97784953,  533118.58647699,  619652.82511586,\n",
       "        906702.21788531,  647575.96891584,  447961.43336943,\n",
       "        482674.6371038 ,  959680.7119358 ,  587578.02088698,\n",
       "        442951.31161484,  360782.50878784,  772964.64022972,\n",
       "        714113.01349648,  807156.4107757 ,  446965.28706844,\n",
       "        445410.28882178,  465834.73684577,  703119.58258535,\n",
       "        613126.13373844,  721885.10874798,  496627.19752784,\n",
       "        305315.93545241,  728696.97366812,  757064.90275446,\n",
       "        534399.41456456,  474066.17544785,  677128.66087651,\n",
       "        600353.86262889,  567867.08914112,  794241.69596745,\n",
       "        789088.80814091,  824628.16233442,  816958.60037882,\n",
       "        744431.08089471,  376194.8498991 ,  955116.34370634,\n",
       "        678158.73746308,  706660.69588973,  384780.56429614,\n",
       "        446582.10992094,  501017.43022489,  848351.25214619,\n",
       "       1022269.90605258,  838904.63878341,  839965.92802999,\n",
       "        504252.43063092,  788758.74094413,  945400.82447569,\n",
       "        703142.58274739,  788237.66371056,  698472.15691229,\n",
       "        669331.87289948,  671608.48749577,  640933.91399124,\n",
       "        850793.2333605 ,  731310.97278597,  690436.02844286,\n",
       "        787866.80126944,  755175.83052197,  618178.66963831,\n",
       "        682066.91311975,  589428.09369206,  700992.7610375 ,\n",
       "        545408.33214122,  413997.78719575,  536202.02962251,\n",
       "        736529.35809089,  889612.91987383,  502258.53616067,\n",
       "        690431.00609499,  756241.90932919,  443151.95099747,\n",
       "        803409.26767132,  667082.88145939,  492060.23880099,\n",
       "        651335.57821899,  621203.09124596,  789683.94064122,\n",
       "        838857.08137878,  607379.67264828,  384345.81033688,\n",
       "        322210.59855884,  757954.84376995,  507281.66218117,\n",
       "        793591.22109977,  611449.60348863,  674800.43575846,\n",
       "        883977.5853565 ,  641281.1297727 ,  492727.00248741,\n",
       "        672802.51887792,  507286.31149127,  951096.20731711,\n",
       "        892394.14376651,  707137.93870513,  793547.40563473,\n",
       "        783478.00687384,  815332.12769485,  820936.34166215,\n",
       "        716909.50130949,  924453.32498952,  753220.02274727,\n",
       "        849030.58300406, 1042907.6811662 ,  895380.82886797])"
      ]
     },
     "execution_count": 144,
     "metadata": {},
     "output_type": "execute_result"
    }
   ],
   "source": [
    "y_pred=regression.predict(x_test)\n",
    "y_pred"
   ]
  },
  {
   "cell_type": "code",
   "execution_count": 145,
   "id": "2364bb83",
   "metadata": {},
   "outputs": [
    {
     "data": {
      "text/plain": [
       "array([899323.13865329, 501526.12535588, 807228.30133633, ...,\n",
       "       663992.58988705, 763515.20491731, 985607.06063859])"
      ]
     },
     "execution_count": 145,
     "metadata": {},
     "output_type": "execute_result"
    }
   ],
   "source": [
    "y_trpred=regression.predict(x_train)\n",
    "y_trpred"
   ]
  },
  {
   "cell_type": "code",
   "execution_count": 146,
   "id": "bfec3d66",
   "metadata": {},
   "outputs": [
    {
     "data": {
      "text/plain": [
       "0.3395308926576912"
      ]
     },
     "execution_count": 146,
     "metadata": {},
     "output_type": "execute_result"
    }
   ],
   "source": [
    "r2_score(y_test,y_pred) #r2 score of linear regression model"
   ]
  },
  {
   "cell_type": "markdown",
   "id": "92362633",
   "metadata": {},
   "source": [
    "# Linear Regression Plot:"
   ]
  },
  {
   "cell_type": "code",
   "execution_count": 147,
   "id": "f99fcbb5",
   "metadata": {},
   "outputs": [
    {
     "data": {
      "image/png": "[encoded data removed]",
      "text/plain": [
       "<Figure size 576x432 with 1 Axes>"
      ]
     },
     "metadata": {
      "needs_background": "light"
     },
     "output_type": "display_data"
    }
   ],
   "source": [
    "plt.figure(figsize=(8,6))\n",
    "plt.scatter(y_test,y_pred,color='y')\n",
    "plt.plot(y_test,y_test,color='g')\n",
    "plt.xlabel('Actual rings',fontsize=14)\n",
    "plt.ylabel('predicted rings',fontsize=14)\n",
    "plt.title('Linear Regression',fontsize=18)\n",
    "plt.show()"
   ]
  },
  {
   "cell_type": "markdown",
   "id": "7639b708",
   "metadata": {},
   "source": [
    "# Lasso Regression"
   ]
  },
  {
   "cell_type": "code",
   "execution_count": 148,
   "id": "9292ca5f",
   "metadata": {},
   "outputs": [
    {
     "name": "stdout",
     "output_type": "stream",
     "text": [
      "{'alpha': 10, 'random_state': 0}\n"
     ]
    }
   ],
   "source": [
    "from sklearn.model_selection import GridSearchCV\n",
    "from sklearn.linear_model import Lasso\n",
    "\n",
    "parameters={'alpha':[0.0001,.001,.01,.1,1,10], 'random_state':list(range(0,10))}\n",
    "ls=Lasso()\n",
    "clf=GridSearchCV(ls,parameters)\n",
    "clf.fit(x_train,y_train)\n",
    "\n",
    "print(clf.best_params_)"
   ]
  },
  {
   "cell_type": "code",
   "execution_count": 149,
   "id": "68fb62dc",
   "metadata": {},
   "outputs": [
    {
     "data": {
      "text/plain": [
       "0.3395239826481161"
      ]
     },
     "execution_count": 149,
     "metadata": {},
     "output_type": "execute_result"
    }
   ],
   "source": [
    "ls=Lasso(alpha=10,random_state=0)\n",
    "ls.fit(x_train,y_train)\n",
    "ls.score(x_train,y_train)\n",
    "pred_ls=ls.predict(x_test)\n",
    "\n",
    "lss=r2_score(y_test,pred_ls)\n",
    "lss"
   ]
  },
  {
   "cell_type": "markdown",
   "id": "e8303911",
   "metadata": {},
   "source": [
    "# CrossValidation Score:"
   ]
  },
  {
   "cell_type": "code",
   "execution_count": 150,
   "id": "acb32dcb",
   "metadata": {},
   "outputs": [
    {
     "name": "stdout",
     "output_type": "stream",
     "text": [
      "at cv:- 2\n",
      "cv score- 30.246916872792056\n",
      "training_accuracy- 30.99822087401466\n",
      "testing_accuracy- 33.95308926576912\n",
      "at cv:- 3\n",
      "cv score- 29.39566478715012\n",
      "training_accuracy- 30.99822087401466\n",
      "testing_accuracy- 33.95308926576912\n",
      "at cv:- 4\n",
      "cv score- 29.386398014328556\n",
      "training_accuracy- 30.99822087401466\n",
      "testing_accuracy- 33.95308926576912\n",
      "at cv:- 5\n",
      "cv score- 28.577061012347837\n",
      "training_accuracy- 30.99822087401466\n",
      "testing_accuracy- 33.95308926576912\n",
      "at cv:- 6\n",
      "cv score- 27.57218848944066\n",
      "training_accuracy- 30.99822087401466\n",
      "testing_accuracy- 33.95308926576912\n",
      "at cv:- 7\n",
      "cv score- 23.20343368517897\n",
      "training_accuracy- 30.99822087401466\n",
      "testing_accuracy- 33.95308926576912\n",
      "at cv:- 8\n",
      "cv score- 24.62753825598405\n",
      "training_accuracy- 30.99822087401466\n",
      "testing_accuracy- 33.95308926576912\n",
      "at cv:- 9\n",
      "cv score- 25.52003571880128\n",
      "training_accuracy- 30.99822087401466\n",
      "testing_accuracy- 33.95308926576912\n"
     ]
    }
   ],
   "source": [
    "training_accuracy=r2_score(y_train,y_trpred)\n",
    "testing_accuracy=r2_score(y_test,y_pred)\n",
    "from sklearn.model_selection import cross_val_score\n",
    "for i in range(2,10):\n",
    "    csv=cross_val_score(regression,x,y,cv=i)\n",
    "    cv_mean=csv.mean()\n",
    "    print('at cv:-',i)\n",
    "    print('cv score-',cv_mean*100)\n",
    "    print('training_accuracy-',training_accuracy*100)\n",
    "    print('testing_accuracy-',testing_accuracy*100)"
   ]
  },
  {
   "cell_type": "code",
   "execution_count": 151,
   "id": "0c993b9b",
   "metadata": {},
   "outputs": [
    {
     "data": {
      "text/plain": [
       "0.3024737393596072"
      ]
     },
     "execution_count": 151,
     "metadata": {},
     "output_type": "execute_result"
    }
   ],
   "source": [
    "csv=cross_val_score(ls,x,y,cv=2)\n",
    "cv_mean=csv.mean()\n",
    "cv_mean"
   ]
  },
  {
   "cell_type": "markdown",
   "id": "da982351",
   "metadata": {},
   "source": [
    "# Using Ensemble Approach:"
   ]
  },
  {
   "cell_type": "code",
   "execution_count": 152,
   "id": "36622312",
   "metadata": {},
   "outputs": [
    {
     "name": "stdout",
     "output_type": "stream",
     "text": [
      "{'criterion': 'mse', 'max_depth': 15, 'max_features': 'auto', 'min_samples_split': 10}\n"
     ]
    }
   ],
   "source": [
    "from sklearn.model_selection import GridSearchCV\n",
    "from sklearn.ensemble import RandomForestRegressor\n",
    "\n",
    "\n",
    "parameters={'criterion':['mse', 'mae'],\n",
    "            'max_features':['auto', 'sqrt', 'log2'],\n",
    "            'max_depth':[10,15],\n",
    "            'min_samples_split':[10,11]}\n",
    "rf=RandomForestRegressor()\n",
    "clf=GridSearchCV(rf,parameters)\n",
    "clf.fit(x_train,y_train)\n",
    "\n",
    "print(clf.best_params_)"
   ]
  },
  {
   "cell_type": "markdown",
   "id": "58916f1f",
   "metadata": {},
   "source": [
    "# RandomForestRegression:"
   ]
  },
  {
   "cell_type": "code",
   "execution_count": 153,
   "id": "00fe3c4f",
   "metadata": {},
   "outputs": [
    {
     "name": "stdout",
     "output_type": "stream",
     "text": [
      "R2 Score:  96.53096190134187\n",
      "Cross validation Score:  96.73654992963017\n"
     ]
    }
   ],
   "source": [
    "rf=RandomForestRegressor(criterion='mse',max_features='auto',max_depth=15,min_samples_split=10)\n",
    "rf.fit(x_train,y_train)\n",
    "rf.score(x_train,y_train)\n",
    "pred_rf=rf.predict(x_test)\n",
    "\n",
    "rfs=r2_score(y_test,pred_rf)\n",
    "print('R2 Score: ',rfs*100)\n",
    "\n",
    "rfcsv=cross_val_score(rf,x,y,cv=2)\n",
    "rf_cv_mean=rfcsv.mean()\n",
    "print('Cross validation Score: ',rf_cv_mean*100)"
   ]
  },
  {
   "cell_type": "markdown",
   "id": "3187059a",
   "metadata": {},
   "source": [
    "# DecisionTreeRegression"
   ]
  },
  {
   "cell_type": "code",
   "execution_count": 154,
   "id": "4da4a19d",
   "metadata": {},
   "outputs": [
    {
     "name": "stdout",
     "output_type": "stream",
     "text": [
      "{'criterion': 'mse', 'max_depth': 12, 'max_features': 'auto', 'min_samples_split': 4}\n"
     ]
    }
   ],
   "source": [
    "from sklearn.tree import DecisionTreeRegressor\n",
    "\n",
    "param_grid={'criterion':['mse', 'mae'],\n",
    "            'max_depth':range(10,15),\n",
    "            'min_samples_split':range(3,8),\n",
    "            'max_features':['auto', 'sqrt', 'log2'],\n",
    "            #'max_leaf_nodea':range(3,7)\n",
    "           }\n",
    "dtr=DecisionTreeRegressor()\n",
    "clf=GridSearchCV(dtr,param_grid)\n",
    "clf.fit(x_train,y_train)\n",
    "\n",
    "print(clf.best_params_)"
   ]
  },
  {
   "cell_type": "code",
   "execution_count": 155,
   "id": "1a6d25e0",
   "metadata": {},
   "outputs": [
    {
     "name": "stdout",
     "output_type": "stream",
     "text": [
      "R2 Score:  94.23124662430601\n",
      "Cross validation Score:  96.27873658633025\n"
     ]
    }
   ],
   "source": [
    "dtr=DecisionTreeRegressor(criterion='mse',max_features='auto',max_depth=12,min_samples_split=4)\n",
    "dtr.fit(x_train,y_train)\n",
    "dtr.score(x_train,y_train)\n",
    "pred_dtr=dtr.predict(x_test)\n",
    "\n",
    "dtrs=r2_score(y_test,pred_dtr)\n",
    "print('R2 Score: ',dtrs*100)\n",
    "\n",
    "dtrcsv=cross_val_score(dtr,x,y,cv=8)\n",
    "dtr_cv_mean=dtrcsv.mean()\n",
    "print('Cross validation Score: ',dtr_cv_mean*100)"
   ]
  },
  {
   "cell_type": "markdown",
   "id": "bafb1c17",
   "metadata": {},
   "source": [
    "# KNeighborsRegression"
   ]
  },
  {
   "cell_type": "code",
   "execution_count": 156,
   "id": "adc21f92",
   "metadata": {},
   "outputs": [
    {
     "name": "stdout",
     "output_type": "stream",
     "text": [
      "{'algorithm': 'brute', 'leaf_size': 3, 'n_neighbors': 3, 'p': 1}\n"
     ]
    }
   ],
   "source": [
    "from sklearn.neighbors import KNeighborsRegressor\n",
    "\n",
    "param_grid={'algorithm':['kd-tree','brute'],\n",
    "            'leaf_size':[3,5 ,6,7,8],\n",
    "            'n_neighbors':[3,5,7,9,11,13],\n",
    "            'p':[1,2]}\n",
    "knr=KNeighborsRegressor()\n",
    "clf=GridSearchCV(knr,param_grid)\n",
    "clf.fit(x_train,y_train)\n",
    "\n",
    "print(clf.best_params_)"
   ]
  },
  {
   "cell_type": "code",
   "execution_count": 157,
   "id": "529ce3ec",
   "metadata": {},
   "outputs": [
    {
     "name": "stdout",
     "output_type": "stream",
     "text": [
      "R2 Score:  87.17716661647776\n",
      "Cross validation Score:  89.48394833022151\n"
     ]
    }
   ],
   "source": [
    "knr=KNeighborsRegressor(algorithm='brute',leaf_size=3,n_neighbors=3,p=1)\n",
    "knr.fit(x_train,y_train)\n",
    "knr.score(x_train,y_train)\n",
    "pred_knr=knr.predict(x_test)\n",
    "\n",
    "knrs=r2_score(y_test,pred_knr)\n",
    "print('R2 Score: ',knrs*100)\n",
    "\n",
    "knrcsv=cross_val_score(knr,x,y,cv=8)\n",
    "knr_cv_mean=knrcsv.mean()\n",
    "print('Cross validation Score: ',knr_cv_mean*100)"
   ]
  },
  {
   "cell_type": "markdown",
   "id": "b24de20a",
   "metadata": {},
   "source": [
    "# SVR model:"
   ]
  },
  {
   "cell_type": "code",
   "execution_count": 158,
   "id": "635193e2",
   "metadata": {},
   "outputs": [
    {
     "name": "stdout",
     "output_type": "stream",
     "text": [
      "{'gamma': 'scale', 'kernel': 'linear'}\n"
     ]
    }
   ],
   "source": [
    "from sklearn.svm import SVR\n",
    "parameters={'kernel':['linear','poly', 'rbf'],'gamma':['scale', 'auto']}\n",
    "svr=SVR()\n",
    "clf1=GridSearchCV(svr,parameters)\n",
    "clf1.fit(x_train,y_train)\n",
    "\n",
    "print(clf1.best_params_)"
   ]
  },
  {
   "cell_type": "code",
   "execution_count": 160,
   "id": "de2c118c",
   "metadata": {},
   "outputs": [
    {
     "name": "stdout",
     "output_type": "stream",
     "text": [
      "R2 Score:  -5.3920462943708225\n",
      "Cross validation Score:  -11.114388909127642\n"
     ]
    }
   ],
   "source": [
    "svr=SVR(kernel='linear',gamma='scale')\n",
    "svr.fit(x_train,y_train)\n",
    "svr.score(x_train,y_train)\n",
    "pred_rf=svr.predict(x_test)\n",
    "\n",
    "svrs=r2_score(y_test,pred_rf)\n",
    "print('R2 Score: ',svrs*100)\n",
    "\n",
    "svrcsv=cross_val_score(svr,x,y,cv=8)\n",
    "svr_cv_mean=svrcsv.mean()\n",
    "print('Cross validation Score: ',svr_cv_mean*100)"
   ]
  },
  {
   "cell_type": "markdown",
   "id": "6720f479",
   "metadata": {},
   "source": [
    "# Random forest classifier model is considered amongst all the models with R2 Score:  94.23124662430601 and Cross validation Score:  96.27873658633025"
   ]
  },
  {
   "cell_type": "markdown",
   "id": "05ca995a",
   "metadata": {},
   "source": [
    "# Saving the model"
   ]
  },
  {
   "cell_type": "code",
   "execution_count": 161,
   "id": "847c8e61",
   "metadata": {},
   "outputs": [],
   "source": [
    "import pickle\n",
    "filename='fprice.pkl'\n",
    "pickle.dump(rf,open(filename,'wb'))"
   ]
  },
  {
   "cell_type": "markdown",
   "id": "42e7afb4",
   "metadata": {},
   "source": [
    "# Conclusion:"
   ]
  },
  {
   "cell_type": "code",
   "execution_count": 162,
   "id": "5c402ef8",
   "metadata": {
    "scrolled": true
   },
   "outputs": [
    {
     "data": {
      "text/html": [
       "<div>\n",
       "<style scoped>\n",
       "    .dataframe tbody tr th:only-of-type {\n",
       "        vertical-align: middle;\n",
       "    }\n",
       "\n",
       "    .dataframe tbody tr th {\n",
       "        vertical-align: top;\n",
       "    }\n",
       "\n",
       "    .dataframe thead th {\n",
       "        text-align: right;\n",
       "    }\n",
       "</style>\n",
       "<table border=\"1\" class=\"dataframe\">\n",
       "  <thead>\n",
       "    <tr style=\"text-align: right;\">\n",
       "      <th></th>\n",
       "      <th>Original</th>\n",
       "      <th>Predicted</th>\n",
       "    </tr>\n",
       "  </thead>\n",
       "  <tbody>\n",
       "    <tr>\n",
       "      <th>0</th>\n",
       "      <td>964299</td>\n",
       "      <td>9.633559e+05</td>\n",
       "    </tr>\n",
       "    <tr>\n",
       "      <th>1</th>\n",
       "      <td>571899</td>\n",
       "      <td>5.716103e+05</td>\n",
       "    </tr>\n",
       "    <tr>\n",
       "      <th>2</th>\n",
       "      <td>968499</td>\n",
       "      <td>9.696502e+05</td>\n",
       "    </tr>\n",
       "    <tr>\n",
       "      <th>3</th>\n",
       "      <td>440299</td>\n",
       "      <td>4.403552e+05</td>\n",
       "    </tr>\n",
       "    <tr>\n",
       "      <th>4</th>\n",
       "      <td>299899</td>\n",
       "      <td>2.993549e+05</td>\n",
       "    </tr>\n",
       "    <tr>\n",
       "      <th>...</th>\n",
       "      <td>...</td>\n",
       "      <td>...</td>\n",
       "    </tr>\n",
       "    <tr>\n",
       "      <th>922</th>\n",
       "      <td>783399</td>\n",
       "      <td>7.836658e+05</td>\n",
       "    </tr>\n",
       "    <tr>\n",
       "      <th>923</th>\n",
       "      <td>822499</td>\n",
       "      <td>8.225260e+05</td>\n",
       "    </tr>\n",
       "    <tr>\n",
       "      <th>924</th>\n",
       "      <td>708199</td>\n",
       "      <td>7.082311e+05</td>\n",
       "    </tr>\n",
       "    <tr>\n",
       "      <th>925</th>\n",
       "      <td>1923499</td>\n",
       "      <td>1.920540e+06</td>\n",
       "    </tr>\n",
       "    <tr>\n",
       "      <th>926</th>\n",
       "      <td>1072699</td>\n",
       "      <td>1.072939e+06</td>\n",
       "    </tr>\n",
       "  </tbody>\n",
       "</table>\n",
       "<p>927 rows × 2 columns</p>\n",
       "</div>"
      ],
      "text/plain": [
       "     Original     Predicted\n",
       "0      964299  9.633559e+05\n",
       "1      571899  5.716103e+05\n",
       "2      968499  9.696502e+05\n",
       "3      440299  4.403552e+05\n",
       "4      299899  2.993549e+05\n",
       "..        ...           ...\n",
       "922    783399  7.836658e+05\n",
       "923    822499  8.225260e+05\n",
       "924    708199  7.082311e+05\n",
       "925   1923499  1.920540e+06\n",
       "926   1072699  1.072939e+06\n",
       "\n",
       "[927 rows x 2 columns]"
      ]
     },
     "execution_count": 162,
     "metadata": {},
     "output_type": "execute_result"
    }
   ],
   "source": [
    "import numpy as np\n",
    "a=np.array(y_test)\n",
    "predicted=np.array(rf.predict(x_test))\n",
    "df_com=pd.DataFrame({'Original':a,'Predicted':predicted},index=range(len(a)))\n",
    "df_com"
   ]
  },
  {
   "cell_type": "code",
   "execution_count": null,
   "id": "a688a045",
   "metadata": {},
   "outputs": [],
   "source": []
  }
 ],
 "metadata": {
  "kernelspec": {
   "display_name": "Python 3 (ipykernel)",
   "language": "python",
   "name": "python3"
  },
  "language_info": {
   "codemirror_mode": {
    "name": "ipython",
    "version": 3
   },
   "file_extension": ".py",
   "mimetype": "text/x-python",
   "name": "python",
   "nbconvert_exporter": "python",
   "pygments_lexer": "ipython3",
   "version": "3.9.12"
  }
 },
 "nbformat": 4,
 "nbformat_minor": 5
}
